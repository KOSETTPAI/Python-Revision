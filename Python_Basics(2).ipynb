{
  "cells": [
    {
      "cell_type": "code",
      "execution_count": 1,
      "metadata": {
        "colab": {
          "base_uri": "https://localhost:8080/"
        },
        "id": "xlw8daj1XZ2N",
        "outputId": "35497749-e4d5-4cb9-dec9-6b0c66101ce6"
      },
      "outputs": [
        {
          "output_type": "stream",
          "name": "stdout",
          "text": [
            "b is greater than a\n"
          ]
        }
      ],
      "source": [
        "a = 33\n",
        "b = 200\n",
        "if b > a:\n",
        "    print(\"b is greater than a\")"
      ]
    },
    {
      "cell_type": "code",
      "execution_count": 2,
      "metadata": {
        "colab": {
          "base_uri": "https://localhost:8080/"
        },
        "id": "pCBl_jOrXZ2O",
        "outputId": "41740460-389f-4466-c738-8bb877ab8a36"
      },
      "outputs": [
        {
          "output_type": "stream",
          "name": "stdout",
          "text": [
            "b is greater than a\n"
          ]
        }
      ],
      "source": [
        "a = 33\n",
        "b = 200\n",
        "if b > a:\n",
        "  print(\"b is greater than a\")"
      ]
    },
    {
      "cell_type": "code",
      "execution_count": 3,
      "metadata": {
        "colab": {
          "base_uri": "https://localhost:8080/"
        },
        "id": "8GHsi4ZaXZ2O",
        "outputId": "ec5166d3-2c44-4a9f-a34b-d76a2adbf62f"
      },
      "outputs": [
        {
          "output_type": "stream",
          "name": "stdout",
          "text": [
            "a and b are equal\n"
          ]
        }
      ],
      "source": [
        "a = 33\n",
        "b = 33\n",
        "if b > a:\n",
        "    print(\"b is greater than a\")\n",
        "elif a == b:\n",
        "    print(\"a and b are equal\")"
      ]
    },
    {
      "cell_type": "code",
      "execution_count": 4,
      "metadata": {
        "colab": {
          "base_uri": "https://localhost:8080/"
        },
        "id": "QUxP9pSnXZ2O",
        "outputId": "ea13e91e-54fc-4e5f-9c78-806dfdc024da"
      },
      "outputs": [
        {
          "output_type": "stream",
          "name": "stdout",
          "text": [
            "a is less than b\n"
          ]
        }
      ],
      "source": [
        "a = 35\n",
        "b = 33\n",
        "if b > a:\n",
        "    print(\"b is greater than a\")\n",
        "elif a == b:\n",
        "    print(\"a and b are equal\")\n",
        "elif a!=b:\n",
        "    print('a is less than b')"
      ]
    },
    {
      "cell_type": "code",
      "execution_count": 5,
      "metadata": {
        "colab": {
          "base_uri": "https://localhost:8080/"
        },
        "id": "nRRiyuKcXZ2O",
        "outputId": "03f1950d-9726-4bfe-d442-87d321315977"
      },
      "outputs": [
        {
          "output_type": "stream",
          "name": "stdout",
          "text": [
            "a is greater than b\n"
          ]
        }
      ],
      "source": [
        "a = 35\n",
        "a = 200\n",
        "b = 33\n",
        "if b > a:\n",
        "    print(\"b is greater than a\")\n",
        "elif a == b:\n",
        "    print(\"a and b are equal\")\n",
        "else:\n",
        "    print(\"a is greater than b\")"
      ]
    },
    {
      "cell_type": "code",
      "execution_count": 6,
      "metadata": {
        "colab": {
          "base_uri": "https://localhost:8080/"
        },
        "id": "Os8b8RvqXZ2P",
        "outputId": "971ba7f3-caf2-446c-b9e3-c384c690d5c0"
      },
      "outputs": [
        {
          "output_type": "stream",
          "name": "stdout",
          "text": [
            "1\n",
            "2\n",
            "3\n",
            "4\n",
            "5\n"
          ]
        }
      ],
      "source": [
        "a = 35\n",
        "i = 1\n",
        "while i < 6:\n",
        "    print(i)\n",
        "    i += 1"
      ]
    },
    {
      "cell_type": "code",
      "execution_count": 7,
      "metadata": {
        "colab": {
          "base_uri": "https://localhost:8080/"
        },
        "id": "kb-nW2iHXZ2P",
        "outputId": "01ccd193-d5b6-463e-bbbc-f334c12d38e0"
      },
      "outputs": [
        {
          "output_type": "stream",
          "name": "stdout",
          "text": [
            "1\n",
            "2\n",
            "3\n"
          ]
        }
      ],
      "source": [
        "i = 1\n",
        "while i < 6:\n",
        "    print(i)\n",
        "    if i == 3:\n",
        "        break\n",
        "    i += 1"
      ]
    },
    {
      "cell_type": "code",
      "execution_count": 8,
      "metadata": {
        "colab": {
          "base_uri": "https://localhost:8080/"
        },
        "id": "FOgYQhmzXZ2P",
        "outputId": "d870332f-e141-4040-cec8-12684b32b0dd"
      },
      "outputs": [
        {
          "output_type": "stream",
          "name": "stdout",
          "text": [
            "apple\n",
            "banana\n",
            "cherry\n"
          ]
        }
      ],
      "source": [
        "fruits = [\"apple\", \"banana\", \"cherry\"]\n",
        "for x in fruits:\n",
        "    print(x)"
      ]
    },
    {
      "cell_type": "code",
      "execution_count": 9,
      "metadata": {
        "colab": {
          "base_uri": "https://localhost:8080/"
        },
        "id": "-e2fUZCXXZ2P",
        "outputId": "663802d5-9cad-4626-86c4-0cfafffe470a"
      },
      "outputs": [
        {
          "output_type": "stream",
          "name": "stdout",
          "text": [
            "b\n",
            "a\n",
            "n\n",
            "a\n",
            "n\n",
            "a\n"
          ]
        }
      ],
      "source": [
        "for x in \"banana\":\n",
        "    print(x)"
      ]
    },
    {
      "cell_type": "code",
      "execution_count": 10,
      "metadata": {
        "colab": {
          "base_uri": "https://localhost:8080/"
        },
        "id": "QPX33zIjXZ2P",
        "outputId": "251a2353-a0bc-40bf-cd89-94efde95b9e4"
      },
      "outputs": [
        {
          "output_type": "stream",
          "name": "stdout",
          "text": [
            "aung\n",
            "maung\n"
          ]
        }
      ],
      "source": [
        "fruits = [\"aung\", \"maung\", \"ko\",\"hein\"]\n",
        "for x in fruits:\n",
        "    print(x)\n",
        "    if x == \"maung\":\n",
        "        break"
      ]
    },
    {
      "cell_type": "code",
      "execution_count": 11,
      "metadata": {
        "colab": {
          "base_uri": "https://localhost:8080/"
        },
        "id": "ZgFHD_q-XZ2P",
        "outputId": "eadcea52-d90f-483f-9757-0401f2d329b6"
      },
      "outputs": [
        {
          "output_type": "stream",
          "name": "stdout",
          "text": [
            "aung\n",
            "maung\n",
            "hein\n"
          ]
        }
      ],
      "source": [
        "fruits = [\"aung\", \"maung\", \"ko\",\"hein\"]\n",
        "for x in fruits:\n",
        "    if x == \"ko\":\n",
        "        continue\n",
        "    print(x)"
      ]
    },
    {
      "cell_type": "code",
      "execution_count": 12,
      "metadata": {
        "colab": {
          "base_uri": "https://localhost:8080/"
        },
        "id": "YOQc72dEXZ2P",
        "outputId": "62a452e7-df93-4ab6-94ec-44ebdf82af34"
      },
      "outputs": [
        {
          "output_type": "stream",
          "name": "stdout",
          "text": [
            "Current character: n\n"
          ]
        }
      ],
      "source": [
        "for char in 'Python':\n",
        "    if char == 'P':\n",
        "        pass\n",
        "print(\"Current character:\", char)"
      ]
    },
    {
      "cell_type": "code",
      "execution_count": 13,
      "metadata": {
        "colab": {
          "base_uri": "https://localhost:8080/"
        },
        "id": "ldmRpjz_XZ2P",
        "outputId": "10a8e554-c635-4d4e-dfac-daa99ce1c823"
      },
      "outputs": [
        {
          "output_type": "stream",
          "name": "stdout",
          "text": [
            "[]\n"
          ]
        }
      ],
      "source": [
        "list = []\n",
        "print(list)"
      ]
    },
    {
      "cell_type": "code",
      "execution_count": 14,
      "metadata": {
        "colab": {
          "base_uri": "https://localhost:8080/"
        },
        "id": "qBW3lEsyXZ2Q",
        "outputId": "c66285b9-7d02-4f49-c3aa-a421b5288170"
      },
      "outputs": [
        {
          "output_type": "stream",
          "name": "stdout",
          "text": [
            "['Hello world']\n"
          ]
        }
      ],
      "source": [
        "list = [\"Hello world\"]\n",
        "print(list)"
      ]
    },
    {
      "cell_type": "code",
      "execution_count": 15,
      "metadata": {
        "colab": {
          "base_uri": "https://localhost:8080/"
        },
        "id": "Ox7e-cLgXZ2Q",
        "outputId": "94a7c1bd-95e1-458b-b6df-9aae547d20b2"
      },
      "outputs": [
        {
          "output_type": "stream",
          "name": "stdout",
          "text": [
            "['Hello', 'Golden', 'Land']\n"
          ]
        }
      ],
      "source": [
        "list = [\"Hello\",\"Golden\", \"Land\"]\n",
        "print(list)"
      ]
    },
    {
      "cell_type": "code",
      "execution_count": 16,
      "metadata": {
        "colab": {
          "base_uri": "https://localhost:8080/"
        },
        "id": "AEwnjNdAXZ2Q",
        "outputId": "8f559361-4cc6-4f35-add7-151ecb14110d"
      },
      "outputs": [
        {
          "output_type": "stream",
          "name": "stdout",
          "text": [
            "Hello\n",
            "Golden\n",
            "Land\n"
          ]
        }
      ],
      "source": [
        "list = [\"Hello\",\"Golden\", \"Land\"]\n",
        "print(list[0])\n",
        "print(list[1])\n",
        "print(list[2])"
      ]
    },
    {
      "cell_type": "code",
      "execution_count": 17,
      "metadata": {
        "colab": {
          "base_uri": "https://localhost:8080/"
        },
        "id": "59nwa7DwXZ2Q",
        "outputId": "becf180e-d5c7-4762-d6b4-4a6dd67f431f"
      },
      "outputs": [
        {
          "output_type": "stream",
          "name": "stdout",
          "text": [
            "Land\n"
          ]
        }
      ],
      "source": [
        "List=[\"Hello\",\"Golden\", \"Land\"]\n",
        "print(List[-1])"
      ]
    },
    {
      "cell_type": "code",
      "execution_count": 18,
      "metadata": {
        "colab": {
          "base_uri": "https://localhost:8080/"
        },
        "id": "bK1aKbSLXZ2Q",
        "outputId": "7c9dd348-25e1-4b4f-f9cf-4d0651407b35"
      },
      "outputs": [
        {
          "output_type": "stream",
          "name": "stdout",
          "text": [
            "Paing\n",
            "Sett\n"
          ]
        }
      ],
      "source": [
        "List=[['Aung','Paing'],['Ko','Sett']]\n",
        "print(List[0][1])\n",
        "print(List[1][1])"
      ]
    },
    {
      "cell_type": "code",
      "execution_count": 19,
      "metadata": {
        "colab": {
          "base_uri": "https://localhost:8080/"
        },
        "id": "3DBqyDkbXZ2Q",
        "outputId": "890c0150-f43a-4eba-9681-7f0490a6cb57"
      },
      "outputs": [
        {
          "output_type": "stream",
          "name": "stdout",
          "text": [
            "Original list:\n",
            "[1, 2, 3, 4, 5, 6, 'Aung', 'Paing', 9, 10]\n",
            "\n",
            "After removing first time from list 3\n",
            "[1, 2, 4, 5, 6, 'Aung', 'Paing', 9, 10]\n",
            "\n",
            "After removing second time from list 5\n",
            "[1, 2, 4, 6, 'Aung', 'Paing', 9, 10]\n",
            "\n",
            "After removing third time from list 'win'\n",
            "[1, 2, 4, 6, 'Paing', 9, 10]\n"
          ]
        }
      ],
      "source": [
        "my_list=[1,2,3,4,5,6,'Aung','Paing',9,10]\n",
        "\n",
        "print(\"Original list:\")\n",
        "print(my_list)\n",
        "\n",
        "my_list.remove(3)\n",
        "print(\"\\nAfter removing first time from list 3\")\n",
        "print(my_list)\n",
        "\n",
        "my_list.remove(5)\n",
        "print(\"\\nAfter removing second time from list 5\")\n",
        "print(my_list)\n",
        "\n",
        "my_list.remove('Aung')\n",
        "print(\"\\nAfter removing third time from list 'win'\")\n",
        "print(my_list)"
      ]
    },
    {
      "cell_type": "code",
      "execution_count": 20,
      "metadata": {
        "colab": {
          "base_uri": "https://localhost:8080/"
        },
        "id": "phYEY7WIXZ2Q",
        "outputId": "47a726d7-3f18-4b72-922d-73722b435c6b"
      },
      "outputs": [
        {
          "output_type": "stream",
          "name": "stdout",
          "text": [
            "Original list:\n",
            "[1, 2, 3, 4, 5, 6, 'Aung', 'Paing', 9, 10]\n",
            "\n",
            "After popping first time from list 3\n",
            "[1, 2, 3, 5, 6, 'Aung', 'Paing', 9, 10]\n",
            "\n",
            "After popping second time from list 5\n",
            "[1, 2, 3, 5, 6, 'Paing', 9, 10]\n",
            "\n",
            "After popping third time from list index -1\n",
            "[1, 2, 3, 5, 6, 'Paing', 9]\n"
          ]
        }
      ],
      "source": [
        "my_list=[1,2,3,4,5,6,'Aung','Paing',9,10]\n",
        "print(\"Original list:\")\n",
        "print(my_list)\n",
        "\n",
        "my_list.pop(3)\n",
        "print(\"\\nAfter popping first time from list 3\")\n",
        "print(my_list)\n",
        "\n",
        "my_list.pop(5)\n",
        "print(\"\\nAfter popping second time from list 5\")\n",
        "print(my_list)\n",
        "\n",
        "my_list.pop()\n",
        "print(\"\\nAfter popping third time from list index -1\")\n",
        "print(my_list)"
      ]
    },
    {
      "cell_type": "code",
      "execution_count": 21,
      "metadata": {
        "colab": {
          "base_uri": "https://localhost:8080/"
        },
        "id": "WyhHhmGeXZ2R",
        "outputId": "e9d98c09-89ec-4599-bae0-60115f2156e0"
      },
      "outputs": [
        {
          "output_type": "stream",
          "name": "stdout",
          "text": [
            "6\n"
          ]
        }
      ],
      "source": [
        "my_list=[1,2,3,4,5,6,'Aung','Paing',9,10]\n",
        "\n",
        "index=my_list.index('Aung')\n",
        "\n",
        "print(index)"
      ]
    },
    {
      "cell_type": "code",
      "execution_count": 22,
      "metadata": {
        "colab": {
          "base_uri": "https://localhost:8080/"
        },
        "id": "tz6XlGiVXZ2R",
        "outputId": "332226b2-2996-4079-e6b1-77d0aa9533fc"
      },
      "outputs": [
        {
          "output_type": "stream",
          "name": "stdout",
          "text": [
            "6\n"
          ]
        }
      ],
      "source": [
        "my_list=[1,2,3,4,5,6,'Aung','Paing',9,10]\n",
        "\n",
        "index=my_list.index('Aung')\n",
        "\n",
        "print(index)"
      ]
    },
    {
      "cell_type": "code",
      "execution_count": 23,
      "metadata": {
        "colab": {
          "base_uri": "https://localhost:8080/"
        },
        "id": "Hf2O3YU_XZ2R",
        "outputId": "7281f152-3a98-484c-e4b4-9b8e16b0f1d8"
      },
      "outputs": [
        {
          "output_type": "stream",
          "name": "stdout",
          "text": [
            "Before update elements list\n",
            " [1, 2, 3, 4, 5, 6, 'Aung', 'Paing', 9, 10]\n",
            "Updated elements list\n",
            " [1, 2, 3, 4, 5, 6, 'Aung', 'Paing', 9, 10, 'Myanmar']\n"
          ]
        }
      ],
      "source": [
        "my_list=[1,2,3,4,5,6,'Aung','Paing',9,10]\n",
        "print('Before update elements list\\n',my_list)\n",
        "\n",
        "my_list.append('Myanmar')\n",
        "print('Updated elements list\\n',my_list)"
      ]
    },
    {
      "cell_type": "code",
      "execution_count": 24,
      "metadata": {
        "colab": {
          "base_uri": "https://localhost:8080/"
        },
        "id": "dVWu5Hw5XZ2R",
        "outputId": "c5131058-2b80-4bff-e9b5-fbab1b63dfd0"
      },
      "outputs": [
        {
          "output_type": "stream",
          "name": "stdout",
          "text": [
            "Before modifies elements list\n",
            " [1, 2, 3, 4, 5, 6]\n",
            "After modifies my_list\n",
            " [1, 2, 3, 4, 5, 6, ['Aung', 'Paing', 'Myanmar']]\n"
          ]
        }
      ],
      "source": [
        "my_list=[1,2,3,4,5,6]\n",
        "print('Before modifies elements list\\n',my_list)\n",
        "\n",
        "new_list=['Aung', 'Paing', 'Myanmar']\n",
        "\n",
        "my_list.append(new_list)\n",
        "print('After modifies my_list\\n',my_list)"
      ]
    },
    {
      "cell_type": "code",
      "execution_count": 25,
      "metadata": {
        "colab": {
          "base_uri": "https://localhost:8080/"
        },
        "id": "AjBSzPiDXZ2R",
        "outputId": "390d5676-1471-4898-d080-24f3005822a2"
      },
      "outputs": [
        {
          "output_type": "stream",
          "name": "stdout",
          "text": [
            "After modifies my_list  [1, 2, 3, 4, 5, 6, 'Aung', 'Paing', 'Myanmar']\n"
          ]
        }
      ],
      "source": [
        "my_list=[1,2,3,4,5,6]\n",
        "new_list=['Aung', 'Paing', 'Myanmar']\n",
        "\n",
        "my_list.extend(new_list)\n",
        "\n",
        "print('After modifies my_list ',my_list)"
      ]
    },
    {
      "cell_type": "code",
      "execution_count": 26,
      "metadata": {
        "colab": {
          "base_uri": "https://localhost:8080/"
        },
        "id": "zT91FFEgXZ2R",
        "outputId": "2d9f350e-09fb-41a0-b06e-66d486d1036f"
      },
      "outputs": [
        {
          "output_type": "stream",
          "name": "stdout",
          "text": [
            "After modifies my_list  [1, 2, 3, 4, 5, 6, 'Aung', 'Paing', 'Myanmar']\n"
          ]
        }
      ],
      "source": [
        "my_list=[1,2,3,4,5,6]\n",
        "new_list = ['Aung', 'Paing', 'Myanmar']\n",
        "\n",
        "my_list +=new_list\n",
        "print('After modifies my_list ',my_list)"
      ]
    },
    {
      "cell_type": "code",
      "execution_count": 27,
      "metadata": {
        "colab": {
          "base_uri": "https://localhost:8080/"
        },
        "id": "6KelrVIAXZ2S",
        "outputId": "59742c75-1222-4d87-cdef-164c40508a5e"
      },
      "outputs": [
        {
          "output_type": "stream",
          "name": "stdout",
          "text": [
            "original list [1, 2, 3, 4, 5, 6]\n",
            "\n",
            "After modifies [1, 2, 3, 4, 'Aung', 5, 6]\n"
          ]
        }
      ],
      "source": [
        "my_list=[1,2,3,4,5,6]\n",
        "print('original list',my_list)\n",
        "\n",
        "my_list.insert(4,'Aung')\n",
        "print('\\nAfter modifies',my_list)"
      ]
    },
    {
      "cell_type": "code",
      "execution_count": 28,
      "metadata": {
        "colab": {
          "base_uri": "https://localhost:8080/"
        },
        "id": "ovHaVJM5XZ2S",
        "outputId": "7cf16b54-7218-4c28-e156-4e5c79151006"
      },
      "outputs": [
        {
          "output_type": "stream",
          "name": "stdout",
          "text": [
            "After modifies my_list  [1, 2, ['Aung', 'Paing', 'Myanmar'], 3, 4, 5, 6]\n"
          ]
        }
      ],
      "source": [
        "my_list=[1,2,3,4,5,6]\n",
        "new_list = ['Aung', 'Paing', 'Myanmar']\n",
        "\n",
        "my_list.insert(2,new_list)\n",
        "print('After modifies my_list ',my_list)"
      ]
    },
    {
      "cell_type": "code",
      "execution_count": 29,
      "metadata": {
        "colab": {
          "base_uri": "https://localhost:8080/"
        },
        "id": "AJJ2BPJzXZ2S",
        "outputId": "960c3e1a-e1bc-49ac-e918-909b2dc443f4"
      },
      "outputs": [
        {
          "output_type": "stream",
          "name": "stdout",
          "text": [
            "2\n"
          ]
        }
      ],
      "source": [
        "my_list=[1,2,3,4,5,6,1]\n",
        "times=my_list.count(1)\n",
        "print(times)"
      ]
    },
    {
      "cell_type": "code",
      "execution_count": 30,
      "metadata": {
        "colab": {
          "base_uri": "https://localhost:8080/"
        },
        "id": "YRGK_LV3XZ2S",
        "outputId": "5ee878f9-7802-4551-ac53-b9812814d7a4"
      },
      "outputs": [
        {
          "output_type": "stream",
          "name": "stdout",
          "text": [
            "[1, 6, 5, 4, 3, 2, 1]\n"
          ]
        }
      ],
      "source": [
        "my_list=[1,2,3,4,5,6,1]\n",
        "my_list.reverse()\n",
        "print(my_list)"
      ]
    },
    {
      "cell_type": "code",
      "execution_count": 31,
      "metadata": {
        "colab": {
          "base_uri": "https://localhost:8080/"
        },
        "id": "rztPHGEnXZ2S",
        "outputId": "d5d3ee8b-65ba-4430-cf83-329515e569ef"
      },
      "outputs": [
        {
          "output_type": "stream",
          "name": "stdout",
          "text": [
            "[0, 1, 1, 2, 3, 4, 5, 6]\n"
          ]
        }
      ],
      "source": [
        "my_list=[1,2,3,4,5,6,1,0]\n",
        "my_list.sort()\n",
        "print(my_list)"
      ]
    },
    {
      "cell_type": "code",
      "execution_count": 32,
      "metadata": {
        "colab": {
          "base_uri": "https://localhost:8080/"
        },
        "id": "ysoVggKcXZ2T",
        "outputId": "b4102029-c936-4278-c9dd-0d1ec33deee4"
      },
      "outputs": [
        {
          "output_type": "stream",
          "name": "stdout",
          "text": [
            "['a', 'e', 'i', 'o', 'u']\n"
          ]
        }
      ],
      "source": [
        "my_list=['u','i','e','a','o']\n",
        "my_list.sort()\n",
        "print(my_list)"
      ]
    },
    {
      "cell_type": "code",
      "execution_count": 33,
      "metadata": {
        "colab": {
          "base_uri": "https://localhost:8080/"
        },
        "id": "eE9AjhCHXZ2T",
        "outputId": "bba92776-a2d2-4fa1-d33c-e9bf78014c72"
      },
      "outputs": [
        {
          "output_type": "stream",
          "name": "stdout",
          "text": [
            "['u', 'i', 'e', 'a', 'o']\n",
            "['u', 'i', 'e', 'a', 'o', 'vowels']\n"
          ]
        }
      ],
      "source": [
        "my_list=['u','i','e','a','o']\n",
        "new_list=my_list\n",
        "print(new_list)\n",
        "new_list.append('vowels')\n",
        "print(new_list)"
      ]
    },
    {
      "cell_type": "code",
      "execution_count": 34,
      "metadata": {
        "colab": {
          "base_uri": "https://localhost:8080/"
        },
        "id": "-9ETvxOfXZ2T",
        "outputId": "5c11e0e1-fa71-47eb-b17f-99a1a0f094e3"
      },
      "outputs": [
        {
          "output_type": "stream",
          "name": "stdout",
          "text": [
            "[]\n"
          ]
        }
      ],
      "source": [
        "my_list=['u','i','e','a','o']\n",
        "my_list.clear()\n",
        "print(my_list)"
      ]
    },
    {
      "cell_type": "code",
      "execution_count": 35,
      "metadata": {
        "colab": {
          "base_uri": "https://localhost:8080/"
        },
        "id": "uCidtF5gXZ2T",
        "outputId": "d46dec1e-c0f2-46da-b66e-8861f685978e"
      },
      "outputs": [
        {
          "output_type": "stream",
          "name": "stdout",
          "text": [
            "136770230337024 136770230248064\n",
            "False\n",
            "They are same\n"
          ]
        }
      ],
      "source": [
        "string1=[1,2,3,4,5]\n",
        "string2=[1,2,3,4,5]\n",
        "print(id(string1),id(string2))\n",
        "\n",
        "string3=string1 is string2\n",
        "print(string3)\n",
        "\n",
        "if string1 == string2:\n",
        "    print('They are same')"
      ]
    },
    {
      "cell_type": "code",
      "execution_count": 36,
      "metadata": {
        "colab": {
          "base_uri": "https://localhost:8080/"
        },
        "id": "AuTW_P2EXZ2T",
        "outputId": "ad2fb421-3535-4bf6-9232-7c1de75f01e4"
      },
      "outputs": [
        {
          "output_type": "stream",
          "name": "stdout",
          "text": [
            "a address is 136770658255696\n",
            "20 address is 136770658255696\n"
          ]
        }
      ],
      "source": [
        "#88\n",
        "a =20\n",
        "print('a address is',id(a))\n",
        "print('20 address is',id(20))"
      ]
    },
    {
      "cell_type": "code",
      "execution_count": 37,
      "metadata": {
        "id": "6Cw4xwsDXZ2T"
      },
      "outputs": [],
      "source": [
        "name1 = 5\n",
        "def outer_fun():\n",
        "    name2 = 6\n",
        "    def inner_fun():\n",
        "        name3 = 7"
      ]
    },
    {
      "cell_type": "code",
      "execution_count": 38,
      "metadata": {
        "colab": {
          "base_uri": "https://localhost:8080/"
        },
        "id": "9XAt28RZXZ2T",
        "outputId": "eea3e80f-9439-46b7-d087-7ed71dd5a946"
      },
      "outputs": [
        {
          "output_type": "stream",
          "name": "stdout",
          "text": [
            "0\n",
            "1\n",
            "2\n",
            "3\n",
            "4\n",
            "5\n",
            "6\n",
            "7\n",
            "8\n",
            "9\n"
          ]
        }
      ],
      "source": [
        "for x in range(10):\n",
        "    print(x)"
      ]
    },
    {
      "cell_type": "code",
      "execution_count": 39,
      "metadata": {
        "colab": {
          "base_uri": "https://localhost:8080/"
        },
        "id": "I3cUfbX9XZ2U",
        "outputId": "e1c7ecd9-dcc4-4fbd-eaa9-d99473103691"
      },
      "outputs": [
        {
          "output_type": "stream",
          "name": "stdout",
          "text": [
            "2\n",
            "3\n",
            "4\n",
            "5\n"
          ]
        }
      ],
      "source": [
        "for x in range(2, 6):\n",
        "    print(x)"
      ]
    },
    {
      "cell_type": "code",
      "execution_count": 40,
      "metadata": {
        "id": "xsNcPGWUXZ2a"
      },
      "outputs": [],
      "source": [
        "def green():\n",
        "    print('We are Myanmar')"
      ]
    },
    {
      "cell_type": "code",
      "execution_count": 41,
      "metadata": {
        "colab": {
          "base_uri": "https://localhost:8080/"
        },
        "id": "Kl_RjDc1XZ2a",
        "outputId": "f6649f66-5efb-497b-f297-9f52b1fe3e0b"
      },
      "outputs": [
        {
          "output_type": "stream",
          "name": "stdout",
          "text": [
            "We are Myanmar\n"
          ]
        }
      ],
      "source": [
        "def green():\n",
        "    print('We are Myanmar')\n",
        "green()"
      ]
    },
    {
      "cell_type": "code",
      "execution_count": 42,
      "metadata": {
        "colab": {
          "base_uri": "https://localhost:8080/"
        },
        "id": "09NG3c_RXZ2a",
        "outputId": "730b1c9d-8fc1-41fd-a008-f32b90ad9c6f"
      },
      "outputs": [
        {
          "output_type": "stream",
          "name": "stdout",
          "text": [
            "We are Myanmar Data Lighthouse\n"
          ]
        }
      ],
      "source": [
        "def green(DL):\n",
        "    print('We are Myanmar ' + DL)\n",
        "green('Data Lighthouse')"
      ]
    },
    {
      "cell_type": "code",
      "execution_count": 43,
      "metadata": {
        "colab": {
          "base_uri": "https://localhost:8080/"
        },
        "id": "S1iUB4PiXZ2a",
        "outputId": "682a4325-936f-4c0b-b065-88634f202630"
      },
      "outputs": [
        {
          "output_type": "stream",
          "name": "stdout",
          "text": [
            "even\n",
            "odd\n"
          ]
        }
      ],
      "source": [
        "def even_or_odd(x):\n",
        "    if(x%2== 0):\n",
        "        print('even')\n",
        "    else:\n",
        "        print('odd')\n",
        "\n",
        "even_or_odd(2)\n",
        "even_or_odd(5)"
      ]
    },
    {
      "cell_type": "code",
      "execution_count": 44,
      "metadata": {
        "colab": {
          "base_uri": "https://localhost:8080/"
        },
        "id": "SpI8MdqRXZ2b",
        "outputId": "51e10b90-afaf-4b29-905e-cad4b53478b0"
      },
      "outputs": [
        {
          "output_type": "stream",
          "name": "stdout",
          "text": [
            "1 time calling is\n",
            "odd\n",
            "2 time calling is\n",
            "even\n",
            "3 time calling is\n",
            "odd\n",
            "4 time calling is\n",
            "even\n"
          ]
        }
      ],
      "source": [
        "def even_or_odd(x):\n",
        "    if(x%2== 0):\n",
        "        print('even')\n",
        "    else:\n",
        "        print('odd')\n",
        "i=1\n",
        "while i<5:\n",
        "    print('{} time calling is'.format(i))\n",
        "    even_or_odd(i)\n",
        "    i=i+1"
      ]
    },
    {
      "cell_type": "code",
      "execution_count": 45,
      "metadata": {
        "colab": {
          "base_uri": "https://localhost:8080/"
        },
        "id": "RtpWRZsMXZ2b",
        "outputId": "4d5d6a7a-d9d8-4a4c-9764-e9f5d99a2fe9"
      },
      "outputs": [
        {
          "output_type": "stream",
          "name": "stdout",
          "text": [
            "[15, 11, 12, 13, 14, 15]\n"
          ]
        }
      ],
      "source": [
        "def listFun(x):\n",
        "    x[0] = 15\n",
        "\n",
        "a_list = [10, 11, 12, 13, 14, 15]\n",
        "listFun(a_list)\n",
        "\n",
        "print(a_list)"
      ]
    },
    {
      "cell_type": "code",
      "execution_count": 46,
      "metadata": {
        "colab": {
          "base_uri": "https://localhost:8080/"
        },
        "id": "wx3OG_gFXZ2b",
        "outputId": "7885fb69-c9cb-4019-e640-09c8f031b9e9"
      },
      "outputs": [
        {
          "output_type": "stream",
          "name": "stdout",
          "text": [
            "[20, 30, 40]\n",
            "[10, 11, 12, 13, 14, 15]\n"
          ]
        }
      ],
      "source": [
        "def myFun(x):\n",
        "    x=[20, 30, 40]\n",
        "    print(x)\n",
        "lst =[10,11,12,13,14,15]\n",
        "myFun(lst)\n",
        "print(lst)"
      ]
    },
    {
      "cell_type": "code",
      "execution_count": 47,
      "metadata": {
        "colab": {
          "base_uri": "https://localhost:8080/"
        },
        "id": "-GJ5Yw0GXZ2b",
        "outputId": "a2d8b033-c01a-4fc7-def9-15acc47d00d7"
      },
      "outputs": [
        {
          "output_type": "stream",
          "name": "stdout",
          "text": [
            "10\n"
          ]
        }
      ],
      "source": [
        "def myFun(x):\n",
        "    x = 20\n",
        "x = 10\n",
        "myFun(x)\n",
        "print(x)"
      ]
    },
    {
      "cell_type": "code",
      "execution_count": 48,
      "metadata": {
        "colab": {
          "base_uri": "https://localhost:8080/"
        },
        "id": "RVqkZXo4XZ2b",
        "outputId": "e07e62f9-f4bd-48ee-c3d8-e47bad658509"
      },
      "outputs": [
        {
          "output_type": "stream",
          "name": "stdout",
          "text": [
            "2\n",
            "3\n"
          ]
        }
      ],
      "source": [
        "def swapping(x, y):\n",
        "    temp = x;\n",
        "    x = y;\n",
        "    y = temp;\n",
        "x = 2\n",
        "y = 3\n",
        "swapping(x, y)\n",
        "\n",
        "print(x)\n",
        "print(y)"
      ]
    }
  ],
  "metadata": {
    "kernelspec": {
      "display_name": "Python 3",
      "language": "python",
      "name": "python3"
    },
    "language_info": {
      "codemirror_mode": {
        "name": "ipython",
        "version": 3
      },
      "file_extension": ".py",
      "mimetype": "text/x-python",
      "name": "python",
      "nbconvert_exporter": "python",
      "pygments_lexer": "ipython3",
      "version": "3.8.5"
    },
    "colab": {
      "provenance": []
    }
  },
  "nbformat": 4,
  "nbformat_minor": 0
}