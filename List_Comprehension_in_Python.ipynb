{
  "nbformat": 4,
  "nbformat_minor": 0,
  "metadata": {
    "colab": {
      "provenance": []
    },
    "kernelspec": {
      "name": "python3",
      "display_name": "Python 3"
    },
    "language_info": {
      "name": "python"
    }
  },
  "cells": [
    {
      "cell_type": "markdown",
      "source": [
        "## *Syntax: newList = [ expression(element) for element in oldList if condition ] *\n",
        "\n",
        "Parameter:\n",
        "\n",
        "expression: Represents the operation you want to execute on every item within the iterable.\n",
        "\n",
        "element: The term “variable” refers to each value taken from the iterable.\n",
        "\n",
        "iterable: specify the sequence of elements you want to iterate through.(e.g., a list, tuple, or string).\n",
        "\n",
        "condition: (Optional) A filter helps decide whether or not an element should be added to the new list."
      ],
      "metadata": {
        "id": "WS6DeeaeaMPI"
      }
    },
    {
      "cell_type": "code",
      "execution_count": 35,
      "metadata": {
        "colab": {
          "base_uri": "https://localhost:8080/"
        },
        "id": "OksYWZLS6xNa",
        "outputId": "c8b2b7f1-3093-4784-97d0-4de7b8ac2f48"
      },
      "outputs": [
        {
          "output_type": "stream",
          "name": "stdout",
          "text": [
            "[24, 26, 28]\n"
          ]
        }
      ],
      "source": [
        "numbers = [12, 13, 14,]\n",
        "doubled = [x *2 for x in numbers]\n",
        "print(doubled)"
      ]
    },
    {
      "cell_type": "code",
      "source": [
        "numbers = [1, 2, 3, 4, 5]\n",
        "squared = [x ** 2 for x in numbers]\n",
        "print(squared)"
      ],
      "metadata": {
        "colab": {
          "base_uri": "https://localhost:8080/"
        },
        "id": "EqDWE6vg-95Y",
        "outputId": "8ab037a1-21d0-4ca7-a055-cb73f0469708"
      },
      "execution_count": 36,
      "outputs": [
        {
          "output_type": "stream",
          "name": "stdout",
          "text": [
            "[1, 4, 9, 16, 25]\n"
          ]
        }
      ]
    },
    {
      "cell_type": "code",
      "source": [
        "list = [i for i in range(11) if i % 2 == 0]\n",
        "print(list)"
      ],
      "metadata": {
        "colab": {
          "base_uri": "https://localhost:8080/"
        },
        "id": "IYr4PUxj_ASf",
        "outputId": "20dbe6e4-807a-4489-e239-0dbc0d29f8fa"
      },
      "execution_count": 37,
      "outputs": [
        {
          "output_type": "stream",
          "name": "stdout",
          "text": [
            "[0, 2, 4, 6, 8, 10]\n"
          ]
        }
      ]
    },
    {
      "cell_type": "code",
      "source": [
        "matrix = [[j for j in range(3)] for i in range(3)]\n",
        "\n",
        "print(matrix)"
      ],
      "metadata": {
        "colab": {
          "base_uri": "https://localhost:8080/"
        },
        "id": "EY3HB4fs_APf",
        "outputId": "eaab34bb-e666-42ad-9d72-55112ee49539"
      },
      "execution_count": 38,
      "outputs": [
        {
          "output_type": "stream",
          "name": "stdout",
          "text": [
            "[[0, 1, 2], [0, 1, 2], [0, 1, 2]]\n"
          ]
        }
      ]
    },
    {
      "cell_type": "code",
      "source": [
        "List = []\n",
        "\n",
        "for character in 'Success!':\n",
        "\tList.append(character)\n",
        "\n",
        "print(List)"
      ],
      "metadata": {
        "id": "LyV2aN--_AL_",
        "colab": {
          "base_uri": "https://localhost:8080/"
        },
        "outputId": "94d46de2-e11c-4040-a79f-b31806b59afd"
      },
      "execution_count": 39,
      "outputs": [
        {
          "output_type": "stream",
          "name": "stdout",
          "text": [
            "['S', 'u', 'c', 'c', 'e', 's', 's', '!']\n"
          ]
        }
      ]
    },
    {
      "cell_type": "code",
      "source": [
        "List = [character for character in 'Successs!']\n",
        "\n",
        "print(List)"
      ],
      "metadata": {
        "id": "3UwoR6xL_AIf",
        "colab": {
          "base_uri": "https://localhost:8080/"
        },
        "outputId": "fe344072-f3d3-4484-b4de-1aca71e4aef7"
      },
      "execution_count": 40,
      "outputs": [
        {
          "output_type": "stream",
          "name": "stdout",
          "text": [
            "['S', 'u', 'c', 'c', 'e', 's', 's', 's', '!']\n"
          ]
        }
      ]
    },
    {
      "cell_type": "code",
      "source": [
        "import time\n",
        "\n",
        "def for_loop(n):\n",
        "\tresult = []\n",
        "\tfor i in range(n):\n",
        "\t\tresult.append(i**2)\n",
        "\treturn result\n",
        "\n",
        "\n",
        "def list_comprehension(n):\n",
        "\treturn [i**2 for i in range(n)]\n",
        "\n",
        "begin = time.time()\n",
        "for_loop(10**6)\n",
        "end = time.time()\n",
        "\n",
        "print('Time taken for_loop:', round(end-begin, 2))\n",
        "\n",
        "begin = time.time()\n",
        "list_comprehension(10**6)\n",
        "end = time.time()\n",
        "\n",
        "print('Time taken for list_comprehension:', round(end-begin, 2))"
      ],
      "metadata": {
        "id": "KSZ03Bap_AFX",
        "colab": {
          "base_uri": "https://localhost:8080/"
        },
        "outputId": "1ea64f72-934b-4048-91a8-1cc0dcefe272"
      },
      "execution_count": 41,
      "outputs": [
        {
          "output_type": "stream",
          "name": "stdout",
          "text": [
            "Time taken for_loop: 0.38\n",
            "Time taken for list_comprehension: 0.34\n"
          ]
        }
      ]
    },
    {
      "cell_type": "code",
      "source": [
        "matrix = []\n",
        "\n",
        "for i in range(3):\n",
        "    matrix.append([])\n",
        "\n",
        "    for j in range(5):\n",
        "        matrix[i].append(j)\n",
        "\n",
        "print(matrix)"
      ],
      "metadata": {
        "id": "goxyabdm_ABP",
        "colab": {
          "base_uri": "https://localhost:8080/"
        },
        "outputId": "e90baff3-5e26-4abc-b168-3b4acd00b3ba"
      },
      "execution_count": 42,
      "outputs": [
        {
          "output_type": "stream",
          "name": "stdout",
          "text": [
            "[[0, 1, 2, 3, 4], [0, 1, 2, 3, 4], [0, 1, 2, 3, 4]]\n"
          ]
        }
      ]
    },
    {
      "cell_type": "code",
      "source": [
        "matrix = [[j for j in range(5)] for i in range(3)]\n",
        "\n",
        "print(matrix)"
      ],
      "metadata": {
        "id": "2EjGNB2a-_9T",
        "colab": {
          "base_uri": "https://localhost:8080/"
        },
        "outputId": "bff8f8b7-ea72-4681-c9a7-00dbf11fb323"
      },
      "execution_count": 43,
      "outputs": [
        {
          "output_type": "stream",
          "name": "stdout",
          "text": [
            "[[0, 1, 2, 3, 4], [0, 1, 2, 3, 4], [0, 1, 2, 3, 4]]\n"
          ]
        }
      ]
    },
    {
      "cell_type": "code",
      "source": [
        "numbers = []\n",
        "\n",
        "for i in range(1, 6):\n",
        "    numbers.append(i*10)\n",
        "\n",
        "print(numbers)"
      ],
      "metadata": {
        "id": "Fa_L3eMi-_4X",
        "colab": {
          "base_uri": "https://localhost:8080/"
        },
        "outputId": "2925408b-b657-4eb5-b020-917d2475610b"
      },
      "execution_count": 44,
      "outputs": [
        {
          "output_type": "stream",
          "name": "stdout",
          "text": [
            "[10, 20, 30, 40, 50]\n"
          ]
        }
      ]
    },
    {
      "cell_type": "code",
      "source": [
        "numbers = [i*10 for i in range(1, 6)]\n",
        "\n",
        "print(numbers)"
      ],
      "metadata": {
        "id": "4-NKg3Te-_xH",
        "colab": {
          "base_uri": "https://localhost:8080/"
        },
        "outputId": "7a4c0d72-62c2-470f-e1ec-fcb014b53032"
      },
      "execution_count": 45,
      "outputs": [
        {
          "output_type": "stream",
          "name": "stdout",
          "text": [
            "[10, 20, 30, 40, 50]\n"
          ]
        }
      ]
    },
    {
      "cell_type": "code",
      "source": [
        "lis = [\"Even\" if i % 2 == 0\n",
        "       else \"Odd\" for i in range(20)]\n",
        "print(lis)"
      ],
      "metadata": {
        "colab": {
          "base_uri": "https://localhost:8080/"
        },
        "id": "mUwJX_35TjSq",
        "outputId": "eea2162d-fe4a-4878-8a40-75e97a7907d6"
      },
      "execution_count": 46,
      "outputs": [
        {
          "output_type": "stream",
          "name": "stdout",
          "text": [
            "['Even', 'Odd', 'Even', 'Odd', 'Even', 'Odd', 'Even', 'Odd', 'Even', 'Odd', 'Even', 'Odd', 'Even', 'Odd', 'Even', 'Odd', 'Even', 'Odd', 'Even', 'Odd']\n"
          ]
        }
      ]
    },
    {
      "cell_type": "code",
      "source": [
        "lis = [num for num in range(100)\n",
        "\tif num % 5 == 0 if num % 10 == 0]\n",
        "print(lis)"
      ],
      "metadata": {
        "colab": {
          "base_uri": "https://localhost:8080/"
        },
        "id": "yVzWmWiaTjPy",
        "outputId": "b1069b0a-52ca-47dd-ae71-6b5bc5aac197"
      },
      "execution_count": 47,
      "outputs": [
        {
          "output_type": "stream",
          "name": "stdout",
          "text": [
            "[0, 10, 20, 30, 40, 50, 60, 70, 80, 90]\n"
          ]
        }
      ]
    },
    {
      "cell_type": "code",
      "source": [
        "cubes = [n**3 for n in range(1, 11)]\n",
        "\n",
        "print(cubes)"
      ],
      "metadata": {
        "colab": {
          "base_uri": "https://localhost:8080/"
        },
        "id": "KlBYMyUuTjMq",
        "outputId": "8493dfc8-2066-4f0a-924a-9ba9d4b7c1bb"
      },
      "execution_count": 48,
      "outputs": [
        {
          "output_type": "stream",
          "name": "stdout",
          "text": [
            "[1, 8, 27, 64, 125, 216, 343, 512, 729, 1000]\n"
          ]
        }
      ]
    },
    {
      "cell_type": "code",
      "source": [
        "twoDMatrix = [[10, 20, 30],\n",
        "\t\t\t[40, 50, 60],\n",
        "\t\t\t[70, 80, 90]]\n",
        "\n",
        "trans = [[i[j] for i in twoDMatrix] for j in range(len(twoDMatrix[0]))]\n",
        "\n",
        "print(trans)"
      ],
      "metadata": {
        "colab": {
          "base_uri": "https://localhost:8080/"
        },
        "id": "JJlLgFDVTjJj",
        "outputId": "68bb7cf2-2dd1-4c57-ed1a-493db8eb5aac"
      },
      "execution_count": 28,
      "outputs": [
        {
          "output_type": "stream",
          "name": "stdout",
          "text": [
            "[[10, 40, 70], [20, 50, 80], [30, 60, 90]]\n"
          ]
        }
      ]
    },
    {
      "cell_type": "code",
      "source": [
        "List = [string[::-1] for string in ('Geeks', 'for', 'Geeks')]\n",
        "\n",
        "print(List)"
      ],
      "metadata": {
        "colab": {
          "base_uri": "https://localhost:8080/"
        },
        "id": "6VJ-1Jj3TjDy",
        "outputId": "c8349b6c-bd4b-4a83-8df8-9c08d747ebf3"
      },
      "execution_count": 49,
      "outputs": [
        {
          "output_type": "stream",
          "name": "stdout",
          "text": [
            "['skeeG', 'rof', 'skeeG']\n"
          ]
        }
      ]
    },
    {
      "cell_type": "code",
      "source": [
        "names = [\"G\", \"G\", \"g\"]\n",
        "ages = [25, 30, 35]\n",
        "person_tuples = [(name, age) for name, age in zip(names, ages)]\n",
        "print(person_tuples)"
      ],
      "metadata": {
        "colab": {
          "base_uri": "https://localhost:8080/"
        },
        "id": "TeC4ABMATi-D",
        "outputId": "2aa9db59-8eb6-403f-8a65-a1f7c77bff18"
      },
      "execution_count": 50,
      "outputs": [
        {
          "output_type": "stream",
          "name": "stdout",
          "text": [
            "[('G', 25), ('G', 30), ('g', 35)]\n"
          ]
        }
      ]
    },
    {
      "cell_type": "code",
      "source": [
        "def digitSum(n):\n",
        "\tdsum = 0\n",
        "\tfor ele in str(n):\n",
        "\t\tdsum += int(ele)\n",
        "\treturn dsum\n",
        "\n",
        "List = [367, 111, 562, 945, 6726, 873]\n",
        "\n",
        "newList = [digitSum(i) for i in List if i & 1]\n",
        "\n",
        "print(newList)"
      ],
      "metadata": {
        "colab": {
          "base_uri": "https://localhost:8080/"
        },
        "id": "8Gs28uC3Ti3r",
        "outputId": "d3195a36-5441-4d8c-d7a7-de14cc429828"
      },
      "execution_count": 51,
      "outputs": [
        {
          "output_type": "stream",
          "name": "stdout",
          "text": [
            "[16, 3, 18, 18]\n"
          ]
        }
      ]
    },
    {
      "cell_type": "code",
      "source": [
        "numbers = [1, 2, 3, 4, 5, 6, 7, 8, 9, 10]\n",
        "cube = [number**3 for number in numbers]\n",
        "print(cube)"
      ],
      "metadata": {
        "id": "vUw0dTC_-_pX",
        "colab": {
          "base_uri": "https://localhost:8080/"
        },
        "outputId": "790be523-09e8-4f51-df65-7aebcb538d0e"
      },
      "execution_count": 52,
      "outputs": [
        {
          "output_type": "stream",
          "name": "stdout",
          "text": [
            "[1, 8, 27, 64, 125, 216, 343, 512, 729, 1000]\n"
          ]
        }
      ]
    },
    {
      "cell_type": "code",
      "source": [
        "words = [\"apple\", \"banana\", \"cherry\", \"orange\"]\n",
        "word_lengths = [len(word) for word in words]\n",
        "print(word_lengths)"
      ],
      "metadata": {
        "colab": {
          "base_uri": "https://localhost:8080/"
        },
        "id": "rMvcL0r3U2Qh",
        "outputId": "4b4ba7d7-40fb-4a56-9ca1-987e1bd44095"
      },
      "execution_count": 53,
      "outputs": [
        {
          "output_type": "stream",
          "name": "stdout",
          "text": [
            "[5, 6, 6, 6]\n"
          ]
        }
      ]
    }
  ]
}