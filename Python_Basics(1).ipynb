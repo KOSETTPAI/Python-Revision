{
  "cells": [
    {
      "cell_type": "code",
      "execution_count": 1,
      "metadata": {
        "colab": {
          "base_uri": "https://localhost:8080/"
        },
        "id": "S8hxKTN7XQJ4",
        "outputId": "4eb1b3ef-a454-48bf-9440-483e3c6c1e1f"
      },
      "outputs": [
        {
          "output_type": "stream",
          "name": "stdout",
          "text": [
            "The value of a is 5 and b is 4\n",
            "The value of a is 5 and b is 4\n"
          ]
        }
      ],
      "source": [
        "a = 5\n",
        "b = 4\n",
        "print(\"The value of a is {} and b is {}\".format(a,b))\n",
        "print(\"The value of a is {1} and b is {0}\".format(b,a))"
      ]
    },
    {
      "cell_type": "code",
      "execution_count": 2,
      "metadata": {
        "colab": {
          "base_uri": "https://localhost:8080/"
        },
        "id": "ZnhbaTKKXQJ5",
        "outputId": "41593a2c-53e0-476c-d4c5-002f0a1dc9f6"
      },
      "outputs": [
        {
          "output_type": "stream",
          "name": "stdout",
          "text": [
            "Hello! Aung Sett Paing. Welcome to Myanmar!\n"
          ]
        }
      ],
      "source": [
        "print(\"Hello! {1} {2}. Welcome to {0}!\".format(\"Myanmar\",\"Aung Sett\",\"Paing\"))"
      ]
    },
    {
      "cell_type": "code",
      "execution_count": 3,
      "metadata": {
        "colab": {
          "base_uri": "https://localhost:8080/"
        },
        "id": "EDwLM1AEXQJ5",
        "outputId": "abe6566d-5e60-440e-9371-c0a2fc76ed2e"
      },
      "outputs": [
        {
          "output_type": "stream",
          "name": "stdout",
          "text": [
            "Aung Sett Paing is from Data Team.\n"
          ]
        }
      ],
      "source": [
        "print(\"{name} is from {team}.\".format(name=\"Aung Sett Paing\", team = \"Data Team\"))"
      ]
    },
    {
      "cell_type": "code",
      "execution_count": 4,
      "metadata": {
        "colab": {
          "base_uri": "https://localhost:8080/"
        },
        "id": "rRrptCp4XQJ5",
        "outputId": "87594659-9ac4-45f6-ce81-43080f269d1a"
      },
      "outputs": [
        {
          "output_type": "stream",
          "name": "stdout",
          "text": [
            "The value of a is 3.143\n",
            "The value of a is 3.14\n"
          ]
        }
      ],
      "source": [
        "a = 3.1425\n",
        "print(\"The value of a is %.3f\"%a)\n",
        "print(\"The value of a is %.2f\"%a)"
      ]
    },
    {
      "cell_type": "code",
      "execution_count": 5,
      "metadata": {
        "colab": {
          "base_uri": "https://localhost:8080/"
        },
        "id": "MV6yCCtHXQJ5",
        "outputId": "48cb49a7-d4e9-4755-acc9-c9c0f214c2f4"
      },
      "outputs": [
        {
          "output_type": "stream",
          "name": "stdout",
          "text": [
            "Enter the data:Hello World!\n",
            "user input data is : Hello World!\n"
          ]
        }
      ],
      "source": [
        "data = input(\"Enter the data:\")\n",
        "print('user input data is :',data)"
      ]
    },
    {
      "cell_type": "code",
      "execution_count": 6,
      "metadata": {
        "colab": {
          "base_uri": "https://localhost:8080/"
        },
        "id": "QgPnKx78XQJ5",
        "outputId": "c3657145-44b8-4583-d7ec-9ddeaa45b5e4"
      },
      "outputs": [
        {
          "output_type": "execute_result",
          "data": {
            "text/plain": [
              "True"
            ]
          },
          "metadata": {},
          "execution_count": 6
        }
      ],
      "source": [
        "bool(2.1)"
      ]
    },
    {
      "cell_type": "code",
      "execution_count": 7,
      "metadata": {
        "colab": {
          "base_uri": "https://localhost:8080/"
        },
        "id": "BBs1yl43XQJ6",
        "outputId": "8d6fac87-ba40-478d-915e-24b879c02857"
      },
      "outputs": [
        {
          "output_type": "stream",
          "name": "stdout",
          "text": [
            "2.0\n",
            "<class 'float'>\n"
          ]
        }
      ],
      "source": [
        "a_int = 1\n",
        "b_float = 1.0\n",
        "c_sum = a_int + b_float\n",
        "print(c_sum)\n",
        "print(type(c_sum))"
      ]
    },
    {
      "cell_type": "code",
      "execution_count": 8,
      "metadata": {
        "colab": {
          "base_uri": "https://localhost:8080/"
        },
        "id": "DkEbp0fYXQJ6",
        "outputId": "f80137c8-b386-4b02-d7a5-ccb5b698ea6f"
      },
      "outputs": [
        {
          "output_type": "stream",
          "name": "stdout",
          "text": [
            "2.0\n",
            "2\n"
          ]
        }
      ],
      "source": [
        "a_int = 1\n",
        "b_float = 1.0\n",
        "c_sum = a_int + b_float\n",
        "print(c_sum)\n",
        "new_c_sum = int(c_sum)\n",
        "print(new_c_sum)"
      ]
    },
    {
      "cell_type": "code",
      "execution_count": 9,
      "metadata": {
        "colab": {
          "base_uri": "https://localhost:8080/"
        },
        "id": "QcnGgWeMXQJ6",
        "outputId": "e06f2e0f-4ce2-40d7-b93a-7196c2ed3dcc"
      },
      "outputs": [
        {
          "output_type": "stream",
          "name": "stdout",
          "text": [
            "The total number is 25\n"
          ]
        }
      ],
      "source": [
        "int_one = 15\n",
        "int_two = 10\n",
        "total = int_one + int_two\n",
        "print(\"The total number is\", total)"
      ]
    },
    {
      "cell_type": "code",
      "execution_count": 10,
      "metadata": {
        "colab": {
          "base_uri": "https://localhost:8080/"
        },
        "id": "Mkc-dcRoXQJ6",
        "outputId": "df4029bd-d228-4da1-a39c-487649a4b9f2"
      },
      "outputs": [
        {
          "output_type": "stream",
          "name": "stdout",
          "text": [
            "Hello World!\n",
            "12\n"
          ]
        }
      ],
      "source": [
        "greet = \"Hello World!\"\n",
        "print(greet)\n",
        "print(len(greet))"
      ]
    },
    {
      "cell_type": "code",
      "execution_count": 11,
      "metadata": {
        "colab": {
          "base_uri": "https://localhost:8080/"
        },
        "id": "XXAnJliUXQJ6",
        "outputId": "bfd78415-8c0c-4fc5-ca01-72c939b6960e"
      },
      "outputs": [
        {
          "output_type": "stream",
          "name": "stdout",
          "text": [
            "d\n"
          ]
        }
      ],
      "source": [
        "str = (\"Hello world\")\n",
        "print(str[10])"
      ]
    },
    {
      "cell_type": "code",
      "execution_count": 12,
      "metadata": {
        "colab": {
          "base_uri": "https://localhost:8080/"
        },
        "id": "QWqoLxh-XQJ7",
        "outputId": "d31112ed-905f-4f92-8dde-37a10bbd838e"
      },
      "outputs": [
        {
          "output_type": "stream",
          "name": "stdout",
          "text": [
            "1\n",
            "Hello world\n",
            "Hello\n",
            "llo\n",
            "llo world\n",
            "Hello\n"
          ]
        }
      ],
      "source": [
        "str = (\"Hello world\")\n",
        "print(len(str[9]))\n",
        "print(str)\n",
        "print(str[0:5])\n",
        "print(str[2:5])\n",
        "print(str[2:])\n",
        "print(str[:5])"
      ]
    },
    {
      "cell_type": "code",
      "execution_count": 13,
      "metadata": {
        "colab": {
          "base_uri": "https://localhost:8080/"
        },
        "id": "KGqj-_R9XQJ8",
        "outputId": "4993288e-e335-4383-b6f8-99207d5e8373"
      },
      "outputs": [
        {
          "output_type": "stream",
          "name": "stdout",
          "text": [
            "Hello Hello \n"
          ]
        }
      ],
      "source": [
        "str = (\"Hello \")\n",
        "print(str*2)"
      ]
    },
    {
      "cell_type": "code",
      "execution_count": 14,
      "metadata": {
        "colab": {
          "base_uri": "https://localhost:8080/"
        },
        "id": "JaK6ECEIXQJ8",
        "outputId": "caab5388-f49a-4687-ec59-9a466d07df65"
      },
      "outputs": [
        {
          "output_type": "stream",
          "name": "stdout",
          "text": [
            "Hello! Aung Sett Paing\n"
          ]
        }
      ],
      "source": [
        "str = (\"Hello! \")\n",
        "print(str+\"Aung Sett Paing\")"
      ]
    },
    {
      "cell_type": "code",
      "execution_count": 15,
      "metadata": {
        "colab": {
          "base_uri": "https://localhost:8080/"
        },
        "id": "l5aaZGVgXQJ8",
        "outputId": "b3f1c32b-ae16-45f7-c0ba-403c8c690718"
      },
      "outputs": [
        {
          "output_type": "stream",
          "name": "stdout",
          "text": [
            "HELLO AUNG SETT PAING\n"
          ]
        }
      ],
      "source": [
        "str = (\"Hello Aung Sett Paing\")\n",
        "print(str.upper())"
      ]
    },
    {
      "cell_type": "code",
      "execution_count": 16,
      "metadata": {
        "colab": {
          "base_uri": "https://localhost:8080/"
        },
        "id": "_KeOGDRVXQJ9",
        "outputId": "6bf9132a-eb7e-430f-af59-c5a386b1cd87"
      },
      "outputs": [
        {
          "output_type": "stream",
          "name": "stdout",
          "text": [
            "hello aung sett paing\n"
          ]
        }
      ],
      "source": [
        "str = (\"Hello Aung Sett Paing\")\n",
        "print(str.lower())"
      ]
    },
    {
      "cell_type": "code",
      "execution_count": 17,
      "metadata": {
        "colab": {
          "base_uri": "https://localhost:8080/"
        },
        "id": "je-E9dPAXQJ9",
        "outputId": "7a7e92d1-7c18-428e-a38e-edb7a11fc732"
      },
      "outputs": [
        {
          "output_type": "stream",
          "name": "stdout",
          "text": [
            "True\n"
          ]
        }
      ],
      "source": [
        "str = (\"HELLOMYANMAR\")\n",
        "print(str.isupper())"
      ]
    },
    {
      "cell_type": "code",
      "execution_count": 18,
      "metadata": {
        "colab": {
          "base_uri": "https://localhost:8080/"
        },
        "id": "Soo5ski3XQJ9",
        "outputId": "d0707cb4-6f38-4781-a2b8-e26599a32e93"
      },
      "outputs": [
        {
          "output_type": "stream",
          "name": "stdout",
          "text": [
            "False\n"
          ]
        }
      ],
      "source": [
        "tr = (\"hellomyanmar\")\n",
        "print(str.islower())"
      ]
    },
    {
      "cell_type": "code",
      "execution_count": 19,
      "metadata": {
        "colab": {
          "base_uri": "https://localhost:8080/"
        },
        "id": "PxV3XLV9XQJ9",
        "outputId": "202096f0-7d0d-46f7-eb42-4f87d1db9688"
      },
      "outputs": [
        {
          "output_type": "stream",
          "name": "stdout",
          "text": [
            "False\n"
          ]
        }
      ],
      "source": [
        "str = (\"helloMyanmar\")\n",
        "print(str.islower())"
      ]
    },
    {
      "cell_type": "code",
      "execution_count": 20,
      "metadata": {
        "colab": {
          "base_uri": "https://localhost:8080/"
        },
        "id": "rR6GIqbVXQJ9",
        "outputId": "5443a7ba-a36a-4c0d-f597-49da5fc2b677"
      },
      "outputs": [
        {
          "output_type": "stream",
          "name": "stdout",
          "text": [
            "2\n"
          ]
        }
      ],
      "source": [
        "str = (\"helloMyanmar\")\n",
        "print(str.count(\"l\"))"
      ]
    },
    {
      "cell_type": "code",
      "execution_count": 21,
      "metadata": {
        "colab": {
          "base_uri": "https://localhost:8080/"
        },
        "id": "Tn0O6SqgXQJ-",
        "outputId": "9c663681-a1ae-4daa-ec43-2133ffd2c541"
      },
      "outputs": [
        {
          "output_type": "stream",
          "name": "stdout",
          "text": [
            "1\n"
          ]
        }
      ],
      "source": [
        "str = (\"helloMyanmar\")\n",
        "print(str.count(\"ll\"))"
      ]
    },
    {
      "cell_type": "code",
      "execution_count": 22,
      "metadata": {
        "colab": {
          "base_uri": "https://localhost:8080/"
        },
        "id": "Hh2JzNdbXQJ-",
        "outputId": "0f295573-89c6-477c-80dc-c6939bc48a4d"
      },
      "outputs": [
        {
          "output_type": "stream",
          "name": "stdout",
          "text": [
            "1\n"
          ]
        }
      ],
      "source": [
        "str = (\"helloMyanmar\")\n",
        "print(str.count(\"m\"))"
      ]
    },
    {
      "cell_type": "code",
      "execution_count": 23,
      "metadata": {
        "colab": {
          "base_uri": "https://localhost:8080/"
        },
        "id": "0WOXJcKRXQJ-",
        "outputId": "b5349b41-aeea-4c77-97a0-22cf0083de2f"
      },
      "outputs": [
        {
          "output_type": "stream",
          "name": "stdout",
          "text": [
            "6\n"
          ]
        }
      ],
      "source": [
        "str = (\"helloMyanmar\")\n",
        "print(str.find(\"y\"))"
      ]
    },
    {
      "cell_type": "code",
      "execution_count": 24,
      "metadata": {
        "colab": {
          "base_uri": "https://localhost:8080/"
        },
        "id": "OpatknsPXQJ-",
        "outputId": "c6a36b1c-d6b9-4d5b-dcee-9afb5181db8e"
      },
      "outputs": [
        {
          "output_type": "stream",
          "name": "stdout",
          "text": [
            "hello! Myanmar ASP\n"
          ]
        }
      ],
      "source": [
        "str = (\"hello! Myanmar AungSettPaing\")\n",
        "new_string = str.replace(\"AungSettPaing\", \"ASP\")\n",
        "print(new_string)"
      ]
    },
    {
      "cell_type": "code",
      "execution_count": 25,
      "metadata": {
        "colab": {
          "base_uri": "https://localhost:8080/"
        },
        "id": "XALD8dHhXQJ-",
        "outputId": "f9d0851e-90b7-413a-8a0c-ecae47dce8db"
      },
      "outputs": [
        {
          "output_type": "stream",
          "name": "stdout",
          "text": [
            "a + b = 17\n",
            "a - b = 9\n",
            "a * b = 52\n",
            "a / b = 3.25\n",
            "a \"%\" b = 1\n",
            "a // b = 3\n",
            "a ** b = 28561\n"
          ]
        }
      ],
      "source": [
        "a = 13\n",
        "b = 4\n",
        "print('a + b =', a+b)\n",
        "\n",
        "print('a - b =', a-b)\n",
        "\n",
        "print('a * b =', a*b)\n",
        "\n",
        "print('a / b =', a/b)\n",
        "\n",
        "print('a \"%\" b =', a%b)\n",
        "\n",
        "print('a // b =', a//b)\n",
        "\n",
        "print('a ** b =', a**b)"
      ]
    },
    {
      "cell_type": "code",
      "execution_count": 26,
      "metadata": {
        "colab": {
          "base_uri": "https://localhost:8080/"
        },
        "id": "3Q5Cjd01XQJ-",
        "outputId": "45c63b21-2d1e-4320-ee77-0402300a7fef"
      },
      "outputs": [
        {
          "output_type": "stream",
          "name": "stdout",
          "text": [
            "a > b = True\n",
            "a < b = False\n",
            "a == b = False\n",
            "a != b = True\n",
            "a >= b = True\n",
            "a <= b = False\n"
          ]
        }
      ],
      "source": [
        "a = 13\n",
        "b = 4\n",
        "print('a > b =', a>b)\n",
        "\n",
        "print('a < b =', a<b)\n",
        "\n",
        "print('a == b =', a==b)\n",
        "\n",
        "print('a != b =', a!=b)\n",
        "\n",
        "print('a >= b =', a>=b)\n",
        "\n",
        "print('a <= b =', a<=b)"
      ]
    },
    {
      "cell_type": "code",
      "execution_count": 27,
      "metadata": {
        "colab": {
          "base_uri": "https://localhost:8080/"
        },
        "id": "5a6ijToiXQJ_",
        "outputId": "7540e450-b922-4ddc-8974-5fe997bafbb1"
      },
      "outputs": [
        {
          "output_type": "stream",
          "name": "stdout",
          "text": [
            "Both conditions are True\n"
          ]
        }
      ],
      "source": [
        "a = 10\n",
        "b = 9\n",
        "c = 13\n",
        "if a > b and c > a:\n",
        "    print(\"Both conditions are True\")"
      ]
    },
    {
      "cell_type": "code",
      "execution_count": 28,
      "metadata": {
        "colab": {
          "base_uri": "https://localhost:8080/"
        },
        "id": "W_T7W25EXQJ_",
        "outputId": "f01352ce-5111-47c4-f91c-d8c7e116a7a3"
      },
      "outputs": [
        {
          "output_type": "stream",
          "name": "stdout",
          "text": [
            "Both conditions are True\n"
          ]
        }
      ],
      "source": [
        "a = 10\n",
        "b = 9\n",
        "c = 13\n",
        "if a > b or c > a:\n",
        "    print(\"Both conditions are True\")"
      ]
    },
    {
      "cell_type": "code",
      "execution_count": 29,
      "metadata": {
        "colab": {
          "base_uri": "https://localhost:8080/"
        },
        "id": "80hAJ-RcXQJ_",
        "outputId": "e15fb8d8-0e6e-4bd6-d23c-663b6b38e4cd"
      },
      "outputs": [
        {
          "output_type": "stream",
          "name": "stdout",
          "text": [
            "not x is  False\n",
            "not x is  True\n"
          ]
        }
      ],
      "source": [
        "x = True\n",
        "print('not x is ', not x)\n",
        "\n",
        "x=False\n",
        "print('not x is ', not x)"
      ]
    },
    {
      "cell_type": "code",
      "execution_count": 30,
      "metadata": {
        "colab": {
          "base_uri": "https://localhost:8080/"
        },
        "id": "giccaHtxXQJ_",
        "outputId": "9d79cf92-eaf8-4b8e-be65-f3d1807f0b2d"
      },
      "outputs": [
        {
          "output_type": "stream",
          "name": "stdout",
          "text": [
            "value of c is  12\n"
          ]
        }
      ],
      "source": [
        "a = 60\n",
        "b = 13\n",
        "c = 0\n",
        "c = a & b\n",
        "print(\"value of c is \" , c)"
      ]
    },
    {
      "cell_type": "code",
      "execution_count": 31,
      "metadata": {
        "colab": {
          "base_uri": "https://localhost:8080/"
        },
        "id": "dde_bEiwXQJ_",
        "outputId": "cd099613-daf9-4df1-f7ae-1a8459b47b3b"
      },
      "outputs": [
        {
          "output_type": "stream",
          "name": "stdout",
          "text": [
            "value of c is  61\n"
          ]
        }
      ],
      "source": [
        "a = 60\n",
        "b = 13\n",
        "c = 0\n",
        "c = a | b\n",
        "print(\"value of c is \" , c)"
      ]
    },
    {
      "cell_type": "code",
      "execution_count": 32,
      "metadata": {
        "colab": {
          "base_uri": "https://localhost:8080/"
        },
        "id": "NQFlB3ucXQKH",
        "outputId": "a5a266bf-7488-4fdc-b3aa-7b7bc74fdace"
      },
      "outputs": [
        {
          "output_type": "stream",
          "name": "stdout",
          "text": [
            "Value of c is  -11\n"
          ]
        }
      ],
      "source": [
        "a = 10\n",
        "c = ~a;\n",
        "print('Value of c is ' , c)"
      ]
    },
    {
      "cell_type": "code",
      "execution_count": 33,
      "metadata": {
        "colab": {
          "base_uri": "https://localhost:8080/"
        },
        "id": "H0eIERshXQKI",
        "outputId": "4e116b65-31af-4d45-9ebe-846d810322c7"
      },
      "outputs": [
        {
          "output_type": "stream",
          "name": "stdout",
          "text": [
            "Value of c is  6\n"
          ]
        }
      ],
      "source": [
        "a = 5\n",
        "b = 3\n",
        "c = a ^ b;\n",
        "print(\"Value of c is \" , c)"
      ]
    },
    {
      "cell_type": "code",
      "execution_count": 34,
      "metadata": {
        "colab": {
          "base_uri": "https://localhost:8080/"
        },
        "id": "veOoU7IBXQKI",
        "outputId": "d5dd8e89-4748-4128-b779-ab31f517c3ec"
      },
      "outputs": [
        {
          "output_type": "stream",
          "name": "stdout",
          "text": [
            "Value of c is  15\n"
          ]
        }
      ],
      "source": [
        "a = 60\n",
        "c = a >> 2\n",
        "print(\"Value of c is \", c)"
      ]
    },
    {
      "cell_type": "code",
      "execution_count": 35,
      "metadata": {
        "colab": {
          "base_uri": "https://localhost:8080/"
        },
        "id": "lZPCXhshXQKI",
        "outputId": "d440ea47-517c-456d-a3d5-f236599fc312"
      },
      "outputs": [
        {
          "output_type": "stream",
          "name": "stdout",
          "text": [
            "Value of c is  7\n"
          ]
        }
      ],
      "source": [
        "a = 60\n",
        "c = a >> 3\n",
        "print(\"Value of c is \", c)"
      ]
    },
    {
      "cell_type": "code",
      "execution_count": 36,
      "metadata": {
        "colab": {
          "base_uri": "https://localhost:8080/"
        },
        "id": "iGITb3hlXQKI",
        "outputId": "7cc9a80c-d3de-4e2a-be03-8d522aaf64b5"
      },
      "outputs": [
        {
          "output_type": "stream",
          "name": "stdout",
          "text": [
            "Value of c is  240\n"
          ]
        }
      ],
      "source": [
        "a = 60\n",
        "c = a << 2;\n",
        "print(\"Value of c is \" , c)"
      ]
    },
    {
      "cell_type": "code",
      "execution_count": 37,
      "metadata": {
        "colab": {
          "base_uri": "https://localhost:8080/"
        },
        "id": "skWY95DvXQKJ",
        "outputId": "bc5624b9-4ba4-4a69-9478-a43db82d53de"
      },
      "outputs": [
        {
          "output_type": "stream",
          "name": "stdout",
          "text": [
            "960\n"
          ]
        }
      ],
      "source": [
        "a = 60\n",
        "b = a<<4\n",
        "print(b)"
      ]
    },
    {
      "cell_type": "code",
      "execution_count": 38,
      "metadata": {
        "colab": {
          "base_uri": "https://localhost:8080/"
        },
        "id": "pOb01ZEhXQKJ",
        "outputId": "66f42a54-60aa-4882-ad4f-9394d4aa3a98"
      },
      "outputs": [
        {
          "output_type": "stream",
          "name": "stdout",
          "text": [
            "136920705827344 136920705827344 136920705827344\n"
          ]
        }
      ],
      "source": [
        "a = 10\n",
        "b = 10\n",
        "c = 10\n",
        "print(id(a),id(b),id(c))"
      ]
    },
    {
      "cell_type": "code",
      "execution_count": 39,
      "metadata": {
        "colab": {
          "base_uri": "https://localhost:8080/"
        },
        "id": "2j3PDqTQXQKJ",
        "outputId": "f8562541-c949-4fc7-e38e-e0f66b00a327"
      },
      "outputs": [
        {
          "output_type": "stream",
          "name": "stdout",
          "text": [
            "True\n"
          ]
        }
      ],
      "source": [
        "a = 10\n",
        "b = 10\n",
        "c = a is b\n",
        "print(c)"
      ]
    },
    {
      "cell_type": "code",
      "execution_count": 40,
      "metadata": {
        "colab": {
          "base_uri": "https://localhost:8080/"
        },
        "id": "I2J0inMeXQKJ",
        "outputId": "186a0db9-0c2c-42d9-a263-e8bffda6756e"
      },
      "outputs": [
        {
          "output_type": "stream",
          "name": "stdout",
          "text": [
            "False\n"
          ]
        }
      ],
      "source": [
        "a = 10\n",
        "b = 10\n",
        "c = a is not b\n",
        "print(c)"
      ]
    },
    {
      "cell_type": "code",
      "execution_count": 41,
      "metadata": {
        "colab": {
          "base_uri": "https://localhost:8080/"
        },
        "id": "k1zsEEdRXQKJ",
        "outputId": "86c8a7d3-9ae9-4abb-ff52-8cf498dc1bd8"
      },
      "outputs": [
        {
          "output_type": "stream",
          "name": "stdout",
          "text": [
            "True\n"
          ]
        }
      ],
      "source": [
        "a = 10\n",
        "b = 20\n",
        "c = a is not b\n",
        "print(c)"
      ]
    },
    {
      "cell_type": "code",
      "execution_count": 42,
      "metadata": {
        "colab": {
          "base_uri": "https://localhost:8080/"
        },
        "id": "NwZqqbTcXQKJ",
        "outputId": "5a2d00a5-3ba9-4efc-9686-69ce6dd91602"
      },
      "outputs": [
        {
          "output_type": "stream",
          "name": "stdout",
          "text": [
            "True\n",
            "a = 136920705827344 b =  136920705827664\n"
          ]
        }
      ],
      "source": [
        "a = 10\n",
        "b = 20\n",
        "c = a is not b\n",
        "print(c)\n",
        "print('a =', id(a), 'b = ', id(b))"
      ]
    },
    {
      "cell_type": "code",
      "execution_count": 43,
      "metadata": {
        "colab": {
          "base_uri": "https://localhost:8080/"
        },
        "id": "bwr4SzJWXQKK",
        "outputId": "5446eed4-6818-4b5c-ae6a-eaa828087720"
      },
      "outputs": [
        {
          "output_type": "stream",
          "name": "stdout",
          "text": [
            "136920415647152 136920415647152\n",
            "True\n",
            "They are same\n"
          ]
        }
      ],
      "source": [
        "string1='hello'\n",
        "string2='hello'\n",
        "\n",
        "print(id(string1),id(string2))\n",
        "\n",
        "string3=string1 is string2\n",
        "\n",
        "print(string3)\n",
        "\n",
        "if string1 == string2:\n",
        "    print('They are same')"
      ]
    },
    {
      "cell_type": "code",
      "execution_count": 44,
      "metadata": {
        "colab": {
          "base_uri": "https://localhost:8080/"
        },
        "id": "i9995Hx4XQKK",
        "outputId": "60596ecd-b56f-4f4d-fd5c-6a190dabc7b4"
      },
      "outputs": [
        {
          "output_type": "stream",
          "name": "stdout",
          "text": [
            "True\n",
            "w is in string1\n",
            "False\n",
            "w is not in string2\n"
          ]
        }
      ],
      "source": [
        "string1=[1,2,3,4,5,'w']\n",
        "string2=[1,2,3,4,5]\n",
        "\n",
        "print( 1 in string1)\n",
        "\n",
        "if 'w' in string1 :\n",
        "     print('w is in string1')\n",
        "\n",
        "print( 2 not in string2)\n",
        "\n",
        "if 'w' not in string2 :\n",
        "     print('w is not in string2')"
      ]
    }
  ],
  "metadata": {
    "kernelspec": {
      "display_name": "Python 3",
      "language": "python",
      "name": "python3"
    },
    "language_info": {
      "codemirror_mode": {
        "name": "ipython",
        "version": 3
      },
      "file_extension": ".py",
      "mimetype": "text/x-python",
      "name": "python",
      "nbconvert_exporter": "python",
      "pygments_lexer": "ipython3",
      "version": "3.8.5"
    },
    "colab": {
      "provenance": []
    }
  },
  "nbformat": 4,
  "nbformat_minor": 0
}