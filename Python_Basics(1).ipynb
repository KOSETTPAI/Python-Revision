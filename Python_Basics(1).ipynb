{
  "cells": [
    {
      "cell_type": "code",
      "execution_count": 64,
      "metadata": {
        "colab": {
          "base_uri": "https://localhost:8080/"
        },
        "id": "S8hxKTN7XQJ4",
        "outputId": "df5842df-d0ef-4a96-97f1-a232f9441a34"
      },
      "outputs": [
        {
          "output_type": "stream",
          "name": "stdout",
          "text": [
            "The value of a is 5 and b is 4\n",
            "The value of a is 5 and b is 4\n"
          ]
        }
      ],
      "source": [
        "a = 5\n",
        "b = 4\n",
        "print(\"The value of a is {} and b is {}\".format(a,b))\n",
        "print(\"The value of a is {1} and b is {0}\".format(b,a))"
      ]
    },
    {
      "cell_type": "code",
      "execution_count": 65,
      "metadata": {
        "colab": {
          "base_uri": "https://localhost:8080/"
        },
        "id": "ZnhbaTKKXQJ5",
        "outputId": "b727e11a-0ddf-43a7-90a5-f4c47b7a1596"
      },
      "outputs": [
        {
          "output_type": "stream",
          "name": "stdout",
          "text": [
            "Hello! Aung Sett Paing. Welcome to Hana Microfinance!\n"
          ]
        }
      ],
      "source": [
        "print(\"Hello! {1} {2}. Welcome to {0} {3}!\".format(\"Hana\",\"Aung Sett\",\"Paing\",\"Microfinance\"))"
      ]
    },
    {
      "cell_type": "code",
      "execution_count": 66,
      "metadata": {
        "colab": {
          "base_uri": "https://localhost:8080/"
        },
        "id": "EDwLM1AEXQJ5",
        "outputId": "6594ef90-6143-4547-fbc5-b35266659214"
      },
      "outputs": [
        {
          "output_type": "stream",
          "name": "stdout",
          "text": [
            "Aung Sett Paing is from Data Team.\n"
          ]
        }
      ],
      "source": [
        "print(\"{name} is from {team}.\".format(name=\"Aung Sett Paing\", team = \"Data Team\"))"
      ]
    },
    {
      "cell_type": "code",
      "execution_count": 67,
      "metadata": {
        "colab": {
          "base_uri": "https://localhost:8080/"
        },
        "id": "rRrptCp4XQJ5",
        "outputId": "3d4ccf5f-a1f1-400c-c82c-e850f8daf303"
      },
      "outputs": [
        {
          "output_type": "stream",
          "name": "stdout",
          "text": [
            "The value of a is 3.143\n",
            "The value of a is 3.14\n"
          ]
        }
      ],
      "source": [
        "a = 3.1425\n",
        "print(\"The value of a is %.3f\"%a)\n",
        "print(\"The value of a is %.2f\"%a)"
      ]
    },
    {
      "cell_type": "code",
      "execution_count": 68,
      "metadata": {
        "colab": {
          "base_uri": "https://localhost:8080/"
        },
        "id": "MV6yCCtHXQJ5",
        "outputId": "4a56e316-85ef-4224-d083-c136a5129443"
      },
      "outputs": [
        {
          "output_type": "stream",
          "name": "stdout",
          "text": [
            "Enter the data:Hello World!\n",
            "user input data is : Hello World!\n"
          ]
        }
      ],
      "source": [
        "data = input(\"Enter the data:\")\n",
        "print('user input data is :',data)"
      ]
    },
    {
      "cell_type": "code",
      "execution_count": 69,
      "metadata": {
        "colab": {
          "base_uri": "https://localhost:8080/"
        },
        "id": "QgPnKx78XQJ5",
        "outputId": "27550cd7-ad28-4e28-f895-6c009d0196b9"
      },
      "outputs": [
        {
          "output_type": "execute_result",
          "data": {
            "text/plain": [
              "True"
            ]
          },
          "metadata": {},
          "execution_count": 69
        }
      ],
      "source": [
        "bool(2.1)"
      ]
    },
    {
      "cell_type": "code",
      "execution_count": 70,
      "metadata": {
        "colab": {
          "base_uri": "https://localhost:8080/"
        },
        "id": "BBs1yl43XQJ6",
        "outputId": "d814652e-442b-4602-ecdf-e4ff6f12a895"
      },
      "outputs": [
        {
          "output_type": "stream",
          "name": "stdout",
          "text": [
            "2.0\n",
            "<class 'float'>\n"
          ]
        }
      ],
      "source": [
        "a_int = 1\n",
        "b_float = 1.0\n",
        "c_sum = a_int + b_float\n",
        "print(c_sum)\n",
        "print(type(c_sum))"
      ]
    },
    {
      "cell_type": "code",
      "execution_count": 71,
      "metadata": {
        "colab": {
          "base_uri": "https://localhost:8080/"
        },
        "id": "DkEbp0fYXQJ6",
        "outputId": "68769119-5877-4e97-8f62-c9265fb32ae2"
      },
      "outputs": [
        {
          "output_type": "stream",
          "name": "stdout",
          "text": [
            "2.0\n",
            "2\n"
          ]
        }
      ],
      "source": [
        "a_int = 1\n",
        "b_float = 1.0\n",
        "c_sum = a_int + b_float\n",
        "print(c_sum)\n",
        "new_c_sum = int(c_sum)\n",
        "print(new_c_sum)"
      ]
    },
    {
      "cell_type": "code",
      "execution_count": 72,
      "metadata": {
        "colab": {
          "base_uri": "https://localhost:8080/"
        },
        "id": "QcnGgWeMXQJ6",
        "outputId": "8bf2a588-e435-4371-dd81-398b43c70344"
      },
      "outputs": [
        {
          "output_type": "stream",
          "name": "stdout",
          "text": [
            "The total number is 25\n"
          ]
        }
      ],
      "source": [
        "int_one = 15\n",
        "int_two = 10\n",
        "total = int_one + int_two\n",
        "print(\"The total number is\", total)"
      ]
    },
    {
      "cell_type": "code",
      "execution_count": 73,
      "metadata": {
        "colab": {
          "base_uri": "https://localhost:8080/"
        },
        "id": "Mkc-dcRoXQJ6",
        "outputId": "9b11ad38-9eff-4eb3-fec3-427ebb2ae78b"
      },
      "outputs": [
        {
          "output_type": "stream",
          "name": "stdout",
          "text": [
            "Hello World!\n",
            "12\n"
          ]
        }
      ],
      "source": [
        "greet = \"Hello World!\"\n",
        "print(greet)\n",
        "print(len(greet))"
      ]
    },
    {
      "cell_type": "code",
      "execution_count": 74,
      "metadata": {
        "colab": {
          "base_uri": "https://localhost:8080/"
        },
        "id": "XXAnJliUXQJ6",
        "outputId": "e40ceac4-f043-44a9-b72b-c8282b6c91f9"
      },
      "outputs": [
        {
          "output_type": "stream",
          "name": "stdout",
          "text": [
            "d\n"
          ]
        }
      ],
      "source": [
        "str = (\"Hello world\")\n",
        "print(str[10])"
      ]
    },
    {
      "cell_type": "code",
      "execution_count": 75,
      "metadata": {
        "colab": {
          "base_uri": "https://localhost:8080/"
        },
        "id": "QWqoLxh-XQJ7",
        "outputId": "1c948cf6-c057-4a3d-fc89-085aca21e77b"
      },
      "outputs": [
        {
          "output_type": "stream",
          "name": "stdout",
          "text": [
            "1\n",
            "Hello world\n",
            "Hello\n",
            "llo\n",
            "llo world\n",
            "Hello\n"
          ]
        }
      ],
      "source": [
        "str = (\"Hello world\")\n",
        "print(len(str[9]))\n",
        "print(str)\n",
        "print(str[0:5])\n",
        "print(str[2:5])\n",
        "print(str[2:])\n",
        "print(str[:5])"
      ]
    },
    {
      "cell_type": "code",
      "execution_count": 76,
      "metadata": {
        "colab": {
          "base_uri": "https://localhost:8080/"
        },
        "id": "KGqj-_R9XQJ8",
        "outputId": "fd5b85d1-c679-40c6-9582-6bb3e325cc01"
      },
      "outputs": [
        {
          "output_type": "stream",
          "name": "stdout",
          "text": [
            "Hello Hello \n"
          ]
        }
      ],
      "source": [
        "str = (\"Hello \")\n",
        "print(str*2)"
      ]
    },
    {
      "cell_type": "code",
      "execution_count": 77,
      "metadata": {
        "colab": {
          "base_uri": "https://localhost:8080/"
        },
        "id": "JaK6ECEIXQJ8",
        "outputId": "d2ada8aa-9dc0-4dc6-a39e-9dd95236ad24"
      },
      "outputs": [
        {
          "output_type": "stream",
          "name": "stdout",
          "text": [
            "Hello! Aung Sett Paing\n"
          ]
        }
      ],
      "source": [
        "str = (\"Hello! \")\n",
        "print(str+\"Aung Sett Paing\")"
      ]
    },
    {
      "cell_type": "code",
      "execution_count": 78,
      "metadata": {
        "colab": {
          "base_uri": "https://localhost:8080/"
        },
        "id": "l5aaZGVgXQJ8",
        "outputId": "4d48b7e7-2b1a-4ea7-8002-27a3e70a92ff"
      },
      "outputs": [
        {
          "output_type": "stream",
          "name": "stdout",
          "text": [
            "HELLO AUNG SETT PAING\n"
          ]
        }
      ],
      "source": [
        "str = (\"Hello Aung Sett Paing\")\n",
        "print(str.upper())"
      ]
    },
    {
      "cell_type": "code",
      "execution_count": 79,
      "metadata": {
        "colab": {
          "base_uri": "https://localhost:8080/"
        },
        "id": "_KeOGDRVXQJ9",
        "outputId": "753bb391-5d45-4384-c52d-938964566cb1"
      },
      "outputs": [
        {
          "output_type": "stream",
          "name": "stdout",
          "text": [
            "hello aung sett paing\n"
          ]
        }
      ],
      "source": [
        "str = (\"Hello Aung Sett Paing\")\n",
        "print(str.lower())"
      ]
    },
    {
      "cell_type": "code",
      "execution_count": 80,
      "metadata": {
        "colab": {
          "base_uri": "https://localhost:8080/"
        },
        "id": "je-E9dPAXQJ9",
        "outputId": "0127d84d-1cf0-463d-e7f5-cdd1412ea8a6"
      },
      "outputs": [
        {
          "output_type": "stream",
          "name": "stdout",
          "text": [
            "True\n"
          ]
        }
      ],
      "source": [
        "str = (\"HELLOMYANMAR\")\n",
        "print(str.isupper())"
      ]
    },
    {
      "cell_type": "code",
      "execution_count": 81,
      "metadata": {
        "colab": {
          "base_uri": "https://localhost:8080/"
        },
        "id": "Soo5ski3XQJ9",
        "outputId": "3ab7e915-65ee-4057-e471-189b421f418b"
      },
      "outputs": [
        {
          "output_type": "stream",
          "name": "stdout",
          "text": [
            "False\n"
          ]
        }
      ],
      "source": [
        "tr = (\"hellomyanmar\")\n",
        "print(str.islower())"
      ]
    },
    {
      "cell_type": "code",
      "execution_count": 82,
      "metadata": {
        "colab": {
          "base_uri": "https://localhost:8080/"
        },
        "id": "PxV3XLV9XQJ9",
        "outputId": "216163cc-3149-4e18-c9fa-70322d11ae85"
      },
      "outputs": [
        {
          "output_type": "stream",
          "name": "stdout",
          "text": [
            "False\n"
          ]
        }
      ],
      "source": [
        "str = (\"helloMyanmar\")\n",
        "print(str.islower())"
      ]
    },
    {
      "cell_type": "code",
      "execution_count": 83,
      "metadata": {
        "colab": {
          "base_uri": "https://localhost:8080/"
        },
        "id": "rR6GIqbVXQJ9",
        "outputId": "31267475-fdfb-45fa-ce3a-f85a49fe7663"
      },
      "outputs": [
        {
          "output_type": "stream",
          "name": "stdout",
          "text": [
            "2\n"
          ]
        }
      ],
      "source": [
        "str = (\"helloMyanmar\")\n",
        "print(str.count(\"l\"))"
      ]
    },
    {
      "cell_type": "code",
      "execution_count": 84,
      "metadata": {
        "colab": {
          "base_uri": "https://localhost:8080/"
        },
        "id": "Tn0O6SqgXQJ-",
        "outputId": "b405bd31-5b19-4a2c-bd49-c69be172c589"
      },
      "outputs": [
        {
          "output_type": "stream",
          "name": "stdout",
          "text": [
            "1\n"
          ]
        }
      ],
      "source": [
        "str = (\"helloMyanmar\")\n",
        "print(str.count(\"ll\"))"
      ]
    },
    {
      "cell_type": "code",
      "execution_count": 85,
      "metadata": {
        "colab": {
          "base_uri": "https://localhost:8080/"
        },
        "id": "Hh2JzNdbXQJ-",
        "outputId": "d5c3459c-723e-44d7-e98e-4f28fcadcf63"
      },
      "outputs": [
        {
          "output_type": "stream",
          "name": "stdout",
          "text": [
            "1\n"
          ]
        }
      ],
      "source": [
        "str = (\"helloMyanmar\")\n",
        "print(str.count(\"m\"))"
      ]
    },
    {
      "cell_type": "code",
      "execution_count": 86,
      "metadata": {
        "colab": {
          "base_uri": "https://localhost:8080/"
        },
        "id": "0WOXJcKRXQJ-",
        "outputId": "8641c5b7-128c-4d67-c506-4726cb5fbd11"
      },
      "outputs": [
        {
          "output_type": "stream",
          "name": "stdout",
          "text": [
            "6\n"
          ]
        }
      ],
      "source": [
        "str = (\"helloMyanmar\")\n",
        "print(str.find(\"y\"))"
      ]
    },
    {
      "cell_type": "code",
      "execution_count": 87,
      "metadata": {
        "colab": {
          "base_uri": "https://localhost:8080/"
        },
        "id": "OpatknsPXQJ-",
        "outputId": "20231432-67a6-4280-e212-68368cdae203"
      },
      "outputs": [
        {
          "output_type": "stream",
          "name": "stdout",
          "text": [
            "hello! Myanmar ASP\n"
          ]
        }
      ],
      "source": [
        "str = (\"hello! Myanmar AungSettPaing\")\n",
        "new_string = str.replace(\"AungSettPaing\", \"ASP\")\n",
        "print(new_string)"
      ]
    },
    {
      "cell_type": "code",
      "execution_count": 88,
      "metadata": {
        "colab": {
          "base_uri": "https://localhost:8080/"
        },
        "id": "XALD8dHhXQJ-",
        "outputId": "0089b921-7d36-4e22-9e19-34b76c4ebd90"
      },
      "outputs": [
        {
          "output_type": "stream",
          "name": "stdout",
          "text": [
            "a + b = 17\n",
            "a - b = 9\n",
            "a * b = 52\n",
            "a / b = 3.25\n",
            "a \"%\" b = 1\n",
            "a // b = 3\n",
            "a ** b = 28561\n"
          ]
        }
      ],
      "source": [
        "a = 13\n",
        "b = 4\n",
        "print('a + b =', a+b)\n",
        "\n",
        "print('a - b =', a-b)\n",
        "\n",
        "print('a * b =', a*b)\n",
        "\n",
        "print('a / b =', a/b)\n",
        "\n",
        "print('a \"%\" b =', a%b)\n",
        "\n",
        "print('a // b =', a//b)\n",
        "\n",
        "print('a ** b =', a**b)"
      ]
    },
    {
      "cell_type": "code",
      "execution_count": 89,
      "metadata": {
        "colab": {
          "base_uri": "https://localhost:8080/"
        },
        "id": "3Q5Cjd01XQJ-",
        "outputId": "6aa8cc0a-bebe-4e58-8a59-10f53f485037"
      },
      "outputs": [
        {
          "output_type": "stream",
          "name": "stdout",
          "text": [
            "a > b = True\n",
            "a < b = False\n",
            "a == b = False\n",
            "a != b = True\n",
            "a >= b = True\n",
            "a <= b = False\n"
          ]
        }
      ],
      "source": [
        "a = 13\n",
        "b = 4\n",
        "print('a > b =', a>b)\n",
        "\n",
        "print('a < b =', a<b)\n",
        "\n",
        "print('a == b =', a==b)\n",
        "\n",
        "print('a != b =', a!=b)\n",
        "\n",
        "print('a >= b =', a>=b)\n",
        "\n",
        "print('a <= b =', a<=b)"
      ]
    },
    {
      "cell_type": "code",
      "execution_count": 90,
      "metadata": {
        "colab": {
          "base_uri": "https://localhost:8080/"
        },
        "id": "5a6ijToiXQJ_",
        "outputId": "92072700-e946-4650-a81e-8f523b8831c7"
      },
      "outputs": [
        {
          "output_type": "stream",
          "name": "stdout",
          "text": [
            "Both conditions are True\n"
          ]
        }
      ],
      "source": [
        "a = 10\n",
        "b = 9\n",
        "c = 13\n",
        "if a > b and c > a:\n",
        "    print(\"Both conditions are True\")"
      ]
    },
    {
      "cell_type": "code",
      "execution_count": 91,
      "metadata": {
        "colab": {
          "base_uri": "https://localhost:8080/"
        },
        "id": "W_T7W25EXQJ_",
        "outputId": "52935679-2889-47d1-9dbb-10ffa340493d"
      },
      "outputs": [
        {
          "output_type": "stream",
          "name": "stdout",
          "text": [
            "Both conditions are True\n"
          ]
        }
      ],
      "source": [
        "a = 10\n",
        "b = 9\n",
        "c = 13\n",
        "if a > b or c > a:\n",
        "    print(\"Both conditions are True\")"
      ]
    },
    {
      "cell_type": "code",
      "execution_count": 92,
      "metadata": {
        "colab": {
          "base_uri": "https://localhost:8080/"
        },
        "id": "80hAJ-RcXQJ_",
        "outputId": "4c870cc8-46c5-4f19-af93-410b3ca744b5"
      },
      "outputs": [
        {
          "output_type": "stream",
          "name": "stdout",
          "text": [
            "not x is  False\n",
            "not x is  True\n"
          ]
        }
      ],
      "source": [
        "x = True\n",
        "print('not x is ', not x)\n",
        "\n",
        "x=False\n",
        "print('not x is ', not x)"
      ]
    },
    {
      "cell_type": "code",
      "execution_count": 93,
      "metadata": {
        "colab": {
          "base_uri": "https://localhost:8080/"
        },
        "id": "giccaHtxXQJ_",
        "outputId": "cab72ca8-997a-43e6-a0aa-f91c0141947f"
      },
      "outputs": [
        {
          "output_type": "stream",
          "name": "stdout",
          "text": [
            "value of c is  12\n"
          ]
        }
      ],
      "source": [
        "a = 60\n",
        "b = 13\n",
        "c = 0\n",
        "c = a & b\n",
        "print(\"value of c is \" , c)"
      ]
    },
    {
      "cell_type": "code",
      "execution_count": 94,
      "metadata": {
        "colab": {
          "base_uri": "https://localhost:8080/"
        },
        "id": "dde_bEiwXQJ_",
        "outputId": "8e7b3253-4c76-4fcf-aaee-18fec87993c3"
      },
      "outputs": [
        {
          "output_type": "stream",
          "name": "stdout",
          "text": [
            "value of c is  61\n"
          ]
        }
      ],
      "source": [
        "a = 60\n",
        "b = 13\n",
        "c = 0\n",
        "c = a | b\n",
        "print(\"value of c is \" , c)"
      ]
    },
    {
      "cell_type": "code",
      "execution_count": 95,
      "metadata": {
        "colab": {
          "base_uri": "https://localhost:8080/"
        },
        "id": "NQFlB3ucXQKH",
        "outputId": "a14ffa2b-2b58-4b67-fd1f-71bdbb6a590e"
      },
      "outputs": [
        {
          "output_type": "stream",
          "name": "stdout",
          "text": [
            "Value of c is  -11\n"
          ]
        }
      ],
      "source": [
        "a = 10\n",
        "c = ~a;\n",
        "print('Value of c is ' , c)"
      ]
    },
    {
      "cell_type": "code",
      "execution_count": 96,
      "metadata": {
        "colab": {
          "base_uri": "https://localhost:8080/"
        },
        "id": "H0eIERshXQKI",
        "outputId": "c32d9214-cb5a-4aea-9558-15c46bf432fe"
      },
      "outputs": [
        {
          "output_type": "stream",
          "name": "stdout",
          "text": [
            "Value of c is  6\n"
          ]
        }
      ],
      "source": [
        "a = 5\n",
        "b = 3\n",
        "c = a ^ b;\n",
        "print(\"Value of c is \" , c)"
      ]
    },
    {
      "cell_type": "code",
      "execution_count": 97,
      "metadata": {
        "colab": {
          "base_uri": "https://localhost:8080/"
        },
        "id": "veOoU7IBXQKI",
        "outputId": "d88e0bad-545e-46ff-cdde-5f266cf7f98a"
      },
      "outputs": [
        {
          "output_type": "stream",
          "name": "stdout",
          "text": [
            "Value of c is  15\n"
          ]
        }
      ],
      "source": [
        "a = 60\n",
        "c = a >> 2\n",
        "print(\"Value of c is \", c)"
      ]
    },
    {
      "cell_type": "code",
      "execution_count": 98,
      "metadata": {
        "colab": {
          "base_uri": "https://localhost:8080/"
        },
        "id": "lZPCXhshXQKI",
        "outputId": "9bde0ce1-f938-4963-d21e-7226aac8f729"
      },
      "outputs": [
        {
          "output_type": "stream",
          "name": "stdout",
          "text": [
            "Value of c is  7\n"
          ]
        }
      ],
      "source": [
        "a = 60\n",
        "c = a >> 3\n",
        "print(\"Value of c is \", c)"
      ]
    },
    {
      "cell_type": "code",
      "execution_count": 99,
      "metadata": {
        "colab": {
          "base_uri": "https://localhost:8080/"
        },
        "id": "iGITb3hlXQKI",
        "outputId": "41603fb7-0bae-4838-9e1e-ed151f5d4339"
      },
      "outputs": [
        {
          "output_type": "stream",
          "name": "stdout",
          "text": [
            "Value of c is  240\n"
          ]
        }
      ],
      "source": [
        "a = 60\n",
        "c = a << 2;\n",
        "print(\"Value of c is \" , c)"
      ]
    },
    {
      "cell_type": "code",
      "execution_count": 100,
      "metadata": {
        "colab": {
          "base_uri": "https://localhost:8080/"
        },
        "id": "skWY95DvXQKJ",
        "outputId": "e647d1ba-a619-4b6f-d765-3b074cd3878a"
      },
      "outputs": [
        {
          "output_type": "stream",
          "name": "stdout",
          "text": [
            "960\n"
          ]
        }
      ],
      "source": [
        "a = 60\n",
        "b = a<<4\n",
        "print(b)"
      ]
    },
    {
      "cell_type": "code",
      "execution_count": 101,
      "metadata": {
        "colab": {
          "base_uri": "https://localhost:8080/"
        },
        "id": "pOb01ZEhXQKJ",
        "outputId": "d68abae5-b4b6-4a0f-f8d4-e07ae05e5449"
      },
      "outputs": [
        {
          "output_type": "stream",
          "name": "stdout",
          "text": [
            "137815054205456 137815054205456 137815054205456\n"
          ]
        }
      ],
      "source": [
        "a = 10\n",
        "b = 10\n",
        "c = 10\n",
        "print(id(a),id(b),id(c))"
      ]
    },
    {
      "cell_type": "code",
      "execution_count": 102,
      "metadata": {
        "colab": {
          "base_uri": "https://localhost:8080/"
        },
        "id": "2j3PDqTQXQKJ",
        "outputId": "03655177-8576-4aed-d08a-2529e4c069d0"
      },
      "outputs": [
        {
          "output_type": "stream",
          "name": "stdout",
          "text": [
            "True\n"
          ]
        }
      ],
      "source": [
        "a = 10\n",
        "b = 10\n",
        "c = a is b\n",
        "print(c)"
      ]
    },
    {
      "cell_type": "code",
      "execution_count": 103,
      "metadata": {
        "colab": {
          "base_uri": "https://localhost:8080/"
        },
        "id": "I2J0inMeXQKJ",
        "outputId": "86a6df18-cd24-48c9-ee6a-8d48d54fc27d"
      },
      "outputs": [
        {
          "output_type": "stream",
          "name": "stdout",
          "text": [
            "False\n"
          ]
        }
      ],
      "source": [
        "a = 10\n",
        "b = 10\n",
        "c = a is not b\n",
        "print(c)"
      ]
    },
    {
      "cell_type": "code",
      "execution_count": 104,
      "metadata": {
        "colab": {
          "base_uri": "https://localhost:8080/"
        },
        "id": "k1zsEEdRXQKJ",
        "outputId": "79cb0ae7-52e4-4583-9599-41d88cf6bbd9"
      },
      "outputs": [
        {
          "output_type": "stream",
          "name": "stdout",
          "text": [
            "True\n"
          ]
        }
      ],
      "source": [
        "a = 10\n",
        "b = 20\n",
        "c = a is not b\n",
        "print(c)"
      ]
    },
    {
      "cell_type": "code",
      "execution_count": 105,
      "metadata": {
        "colab": {
          "base_uri": "https://localhost:8080/"
        },
        "id": "NwZqqbTcXQKJ",
        "outputId": "4e637502-5874-49ce-84b0-53599f209c68"
      },
      "outputs": [
        {
          "output_type": "stream",
          "name": "stdout",
          "text": [
            "True\n",
            "a = 137815054205456 b =  137815054205776\n"
          ]
        }
      ],
      "source": [
        "a = 10\n",
        "b = 20\n",
        "c = a is not b\n",
        "print(c)\n",
        "print('a =', id(a), 'b = ', id(b))"
      ]
    },
    {
      "cell_type": "code",
      "execution_count": 106,
      "metadata": {
        "colab": {
          "base_uri": "https://localhost:8080/"
        },
        "id": "bwr4SzJWXQKK",
        "outputId": "059bf5e8-ed87-4443-e0fa-b077cc55006b"
      },
      "outputs": [
        {
          "output_type": "stream",
          "name": "stdout",
          "text": [
            "137814831034736 137814831034736\n",
            "True\n",
            "They are same\n"
          ]
        }
      ],
      "source": [
        "string1='hello'\n",
        "string2='hello'\n",
        "\n",
        "print(id(string1),id(string2))\n",
        "\n",
        "string3=string1 is string2\n",
        "\n",
        "print(string3)\n",
        "\n",
        "if string1 == string2:\n",
        "    print('They are same')"
      ]
    },
    {
      "cell_type": "code",
      "execution_count": 107,
      "metadata": {
        "colab": {
          "base_uri": "https://localhost:8080/"
        },
        "id": "i9995Hx4XQKK",
        "outputId": "03094669-bd1d-471d-e607-3ce6295a4496"
      },
      "outputs": [
        {
          "output_type": "stream",
          "name": "stdout",
          "text": [
            "True\n",
            "w is in string1\n",
            "False\n",
            "w is not in string2\n"
          ]
        }
      ],
      "source": [
        "string1=[1,2,3,4,5,'w']\n",
        "string2=[1,2,3,4,5]\n",
        "\n",
        "print( 1 in string1)\n",
        "\n",
        "if 'w' in string1 :\n",
        "     print('w is in string1')\n",
        "\n",
        "print( 2 not in string2)\n",
        "\n",
        "if 'w' not in string2 :\n",
        "     print('w is not in string2')"
      ]
    }
  ],
  "metadata": {
    "kernelspec": {
      "display_name": "Python 3",
      "language": "python",
      "name": "python3"
    },
    "language_info": {
      "codemirror_mode": {
        "name": "ipython",
        "version": 3
      },
      "file_extension": ".py",
      "mimetype": "text/x-python",
      "name": "python",
      "nbconvert_exporter": "python",
      "pygments_lexer": "ipython3",
      "version": "3.8.5"
    },
    "colab": {
      "provenance": []
    }
  },
  "nbformat": 4,
  "nbformat_minor": 0
}