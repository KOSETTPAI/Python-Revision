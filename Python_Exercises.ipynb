{
  "cells": [
    {
      "cell_type": "code",
      "execution_count": 1,
      "id": "2052b245",
      "metadata": {
        "colab": {
          "base_uri": "https://localhost:8080/"
        },
        "id": "2052b245",
        "outputId": "0c7f8e9c-1e13-4ce5-a597-3b1da6125a77"
      },
      "outputs": [
        {
          "output_type": "stream",
          "name": "stdout",
          "text": [
            "The result is 600\n",
            "The result is 70\n"
          ]
        }
      ],
      "source": [
        "def multiplication_or_sum(num1, num2):\n",
        "    product = num1 * num2\n",
        "    if product <= 1000:\n",
        "        return product\n",
        "    else:\n",
        "        return num1 + num2\n",
        "\n",
        "result = multiplication_or_sum(20, 30)\n",
        "print(\"The result is\", result)\n",
        "\n",
        "result = multiplication_or_sum(40, 30)\n",
        "print(\"The result is\", result)"
      ]
    },
    {
      "cell_type": "code",
      "execution_count": 2,
      "id": "38bb0b48",
      "metadata": {
        "colab": {
          "base_uri": "https://localhost:8080/"
        },
        "id": "38bb0b48",
        "outputId": "e5ef74d9-2066-450a-b3ee-bb5a993a2fcd"
      },
      "outputs": [
        {
          "output_type": "stream",
          "name": "stdout",
          "text": [
            "1\n",
            "3\n",
            "5\n",
            "7\n",
            "9\n",
            "11\n",
            "13\n",
            "15\n",
            "17\n",
            "19\n"
          ]
        }
      ],
      "source": [
        "previous_num = 0\n",
        "\n",
        "for i in range(1, 11):\n",
        "    x_sum = previous_num + i\n",
        "    print(x_sum)\n",
        "    previous_num = i"
      ]
    },
    {
      "cell_type": "code",
      "execution_count": 3,
      "id": "63bbff55",
      "metadata": {
        "colab": {
          "base_uri": "https://localhost:8080/"
        },
        "id": "63bbff55",
        "outputId": "8acceee2-011b-42f3-c43f-e84f95d9d7c8"
      },
      "outputs": [
        {
          "output_type": "stream",
          "name": "stdout",
          "text": [
            "A\n",
            "N\n",
            "P\n",
            "I\n",
            "G\n"
          ]
        }
      ],
      "source": [
        "text = \"AUNGPAING\"\n",
        "text_list = list(text[::2])\n",
        "\n",
        "for i in text_list:\n",
        "    print(i)"
      ]
    },
    {
      "cell_type": "code",
      "execution_count": 4,
      "id": "bb405530",
      "metadata": {
        "colab": {
          "base_uri": "https://localhost:8080/"
        },
        "id": "bb405530",
        "outputId": "e69f5e54-6873-47e7-9000-93dd78927743"
      },
      "outputs": [
        {
          "output_type": "stream",
          "name": "stdout",
          "text": [
            "Enter word Hello\n",
            "Original String: Hello\n",
            "H\n",
            "l\n",
            "o\n"
          ]
        }
      ],
      "source": [
        "word = input('Enter word ')\n",
        "print(\"Original String:\", word)\n",
        "\n",
        "x = list(word)\n",
        "for i in x[0::2]:\n",
        "    print(i)"
      ]
    },
    {
      "cell_type": "code",
      "execution_count": 5,
      "id": "d2472792",
      "metadata": {
        "colab": {
          "base_uri": "https://localhost:8080/"
        },
        "id": "d2472792",
        "outputId": "885f46df-5ba4-474b-d55d-0ae3c0fe4728"
      },
      "outputs": [
        {
          "output_type": "stream",
          "name": "stdout",
          "text": [
            "o World\n"
          ]
        }
      ],
      "source": [
        "def remove_chars(text, count):\n",
        "    output = text[count:]\n",
        "    print(output)\n",
        "\n",
        "remove_chars(\"Hello World\",4)"
      ]
    },
    {
      "cell_type": "code",
      "execution_count": 6,
      "id": "ad44d1fd",
      "metadata": {
        "colab": {
          "base_uri": "https://localhost:8080/"
        },
        "id": "ad44d1fd",
        "outputId": "9ab5c696-c78a-486c-86e5-277d3ce384bf"
      },
      "outputs": [
        {
          "output_type": "stream",
          "name": "stdout",
          "text": [
            "o World\n",
            "llo World\n"
          ]
        }
      ],
      "source": [
        "def remove_chars(word, n):\n",
        "    x = word[n:]\n",
        "    return x\n",
        "\n",
        "print(remove_chars(\"Hello World\", 4))\n",
        "print(remove_chars(\"Hello World\", 2))"
      ]
    },
    {
      "cell_type": "code",
      "execution_count": 7,
      "id": "458542e1",
      "metadata": {
        "colab": {
          "base_uri": "https://localhost:8080/"
        },
        "id": "458542e1",
        "outputId": "b634f655-dde0-4658-ca0c-89276d875955"
      },
      "outputs": [
        {
          "output_type": "stream",
          "name": "stdout",
          "text": [
            "result is True\n",
            "result is False\n"
          ]
        }
      ],
      "source": [
        "def same_or_not(List):\n",
        "    if List[0] == List[-1]:\n",
        "        print(\"result is True\")\n",
        "    else:\n",
        "        print(\"result is False\")\n",
        "\n",
        "numbers_x = [10, 20, 30, 40, 10]\n",
        "same_or_not(numbers_x)\n",
        "numbers_y = [75, 65, 35, 75, 30]\n",
        "same_or_not(numbers_y)"
      ]
    },
    {
      "cell_type": "code",
      "execution_count": 8,
      "id": "149c9533",
      "metadata": {
        "colab": {
          "base_uri": "https://localhost:8080/"
        },
        "id": "149c9533",
        "outputId": "8d970384-27db-4821-89e6-39320cc2ab56"
      },
      "outputs": [
        {
          "output_type": "stream",
          "name": "stdout",
          "text": [
            "Given list: [10, 20, 30, 40, 10]\n",
            "result is True\n",
            "Given list: [75, 65, 35, 75, 30]\n",
            "result is False\n"
          ]
        }
      ],
      "source": [
        "def first_last_same(numberList):\n",
        "    print(\"Given list:\", numberList)\n",
        "\n",
        "    first_num = numberList[0]\n",
        "    last_num = numberList[-1]\n",
        "\n",
        "    if first_num == last_num:\n",
        "        return True\n",
        "    else:\n",
        "        return False\n",
        "\n",
        "numbers_x = [10, 20, 30, 40, 10]\n",
        "print(\"result is\", first_last_same(numbers_x))\n",
        "\n",
        "numbers_y = [75, 65, 35, 75, 30]\n",
        "print(\"result is\", first_last_same(numbers_y))"
      ]
    },
    {
      "cell_type": "code",
      "execution_count": 9,
      "id": "b7a4b003",
      "metadata": {
        "colab": {
          "base_uri": "https://localhost:8080/"
        },
        "id": "b7a4b003",
        "outputId": "949ebb33-3599-4370-8dba-1a0c04b98c6f"
      },
      "outputs": [
        {
          "output_type": "stream",
          "name": "stdout",
          "text": [
            "10\n",
            "20\n",
            "55\n"
          ]
        }
      ],
      "source": [
        "Test = [10, 20, 33, 46, 55]\n",
        "\n",
        "for i in (Test):\n",
        "    if i % 5 == 0:\n",
        "        print(i)"
      ]
    },
    {
      "cell_type": "code",
      "execution_count": 10,
      "id": "227a54d4",
      "metadata": {
        "colab": {
          "base_uri": "https://localhost:8080/"
        },
        "id": "227a54d4",
        "outputId": "f7c52656-0115-45a9-e128-f80f5cd31710"
      },
      "outputs": [
        {
          "output_type": "stream",
          "name": "stdout",
          "text": [
            "Given list: [10, 20, 33, 46, 55]\n",
            "Divisible by 5:\n",
            "10\n",
            "20\n",
            "55\n"
          ]
        }
      ],
      "source": [
        "num_list = [10, 20, 33, 46, 55]\n",
        "print(\"Given list:\", num_list)\n",
        "print('Divisible by 5:')\n",
        "for num in num_list:\n",
        "    if num % 5 == 0:\n",
        "        print(num)"
      ]
    },
    {
      "cell_type": "code",
      "execution_count": 11,
      "id": "58520d48",
      "metadata": {
        "colab": {
          "base_uri": "https://localhost:8080/"
        },
        "id": "58520d48",
        "outputId": "be863c1e-8722-435a-bfe9-fb359252450d"
      },
      "outputs": [
        {
          "output_type": "stream",
          "name": "stdout",
          "text": [
            "2\n"
          ]
        }
      ],
      "source": [
        "str_x = \"Emma is good developer. Emma is a writer\"\n",
        "\n",
        "cnt = str_x.count(\"Emma\")\n",
        "print(cnt)"
      ]
    },
    {
      "cell_type": "code",
      "execution_count": 12,
      "id": "49c95220",
      "metadata": {
        "colab": {
          "base_uri": "https://localhost:8080/"
        },
        "id": "49c95220",
        "outputId": "a8270d7b-1d32-4d83-a6be-42b6e04b7ee2"
      },
      "outputs": [
        {
          "output_type": "stream",
          "name": "stdout",
          "text": [
            "Given String:  Emma is good developer. Emma is a writer\n",
            "Emma appeared  2 times\n"
          ]
        }
      ],
      "source": [
        "def count_emma(statement):\n",
        "    print(\"Given String: \", statement)\n",
        "    count = 0\n",
        "    for i in range(len(statement) - 1):\n",
        "        count += statement[i: i + 4] == 'Emma'\n",
        "    return count\n",
        "\n",
        "count = count_emma(\"Emma is good developer. Emma is a writer\")\n",
        "print(\"Emma appeared \", count, \"times\")"
      ]
    },
    {
      "cell_type": "code",
      "execution_count": 13,
      "id": "1784e96d",
      "metadata": {
        "colab": {
          "base_uri": "https://localhost:8080/"
        },
        "id": "1784e96d",
        "outputId": "4aa0fc77-3468-4392-ddc1-20f7f766200e"
      },
      "outputs": [
        {
          "output_type": "stream",
          "name": "stdout",
          "text": [
            "1\n",
            "22\n",
            "333\n",
            "4444\n",
            "55555\n"
          ]
        }
      ],
      "source": [
        "for i in range(1,6):\n",
        "    print(str(i) * i)\n",
        "    i += 1"
      ]
    },
    {
      "cell_type": "code",
      "execution_count": 14,
      "id": "9205c8f0",
      "metadata": {
        "colab": {
          "base_uri": "https://localhost:8080/"
        },
        "id": "9205c8f0",
        "outputId": "e5c5c7d9-0b0a-41cd-ccc7-e821c8868be5"
      },
      "outputs": [
        {
          "output_type": "stream",
          "name": "stdout",
          "text": [
            "\n",
            "\n",
            "1 \n",
            "\n",
            "2 2 \n",
            "\n",
            "3 3 3 \n",
            "\n",
            "4 4 4 4 \n",
            "\n",
            "5 5 5 5 5 \n",
            "\n",
            "6 6 6 6 6 6 \n",
            "\n",
            "7 7 7 7 7 7 7 \n",
            "\n",
            "8 8 8 8 8 8 8 8 \n",
            "\n",
            "9 9 9 9 9 9 9 9 9 \n",
            "\n"
          ]
        }
      ],
      "source": [
        "for num in range(10):\n",
        "    for i in range(num):\n",
        "        print (num, end=\" \")\n",
        "    print(\"\\n\")"
      ]
    },
    {
      "cell_type": "code",
      "execution_count": 15,
      "id": "dc2b567a",
      "metadata": {
        "id": "dc2b567a"
      },
      "outputs": [],
      "source": [
        "def palindrome_or_not():\n",
        "    number = input(\"Please Enter Your Number : \")\n",
        "    reversed_num = number[::-1]\n",
        "    print(reversed_num)\n",
        "    if int(number) == int(reversed_num):\n",
        "        print(\"True\")\n",
        "    else:\n",
        "        print(\"False\")"
      ]
    },
    {
      "cell_type": "code",
      "execution_count": 16,
      "id": "c3a93e66",
      "metadata": {
        "colab": {
          "base_uri": "https://localhost:8080/"
        },
        "id": "c3a93e66",
        "outputId": "976bb9ea-f6a7-4703-97a8-4331981c6034"
      },
      "outputs": [
        {
          "output_type": "stream",
          "name": "stdout",
          "text": [
            "Please Enter Your Number : 989\n",
            "989\n",
            "True\n"
          ]
        }
      ],
      "source": [
        "palindrome_or_not()"
      ]
    },
    {
      "cell_type": "code",
      "execution_count": 17,
      "id": "ecfbb949",
      "metadata": {
        "id": "ecfbb949"
      },
      "outputs": [],
      "source": [
        "new_list = []\n",
        "def odd_and_even(list1, list2):\n",
        "    for x in list1:\n",
        "        if x % 2 != 0:\n",
        "            new_list.append(x)\n",
        "    for y in list2:\n",
        "        if y % 2 == 0:\n",
        "            new_list.append(y)\n",
        "    return new_list"
      ]
    },
    {
      "cell_type": "code",
      "execution_count": 18,
      "id": "43f0764e",
      "metadata": {
        "colab": {
          "base_uri": "https://localhost:8080/"
        },
        "id": "43f0764e",
        "outputId": "7a6342e4-1dc2-48a8-b56e-7f1bfdfba00d"
      },
      "outputs": [
        {
          "output_type": "stream",
          "name": "stdout",
          "text": [
            "[25, 35, 40, 60, 90]\n"
          ]
        }
      ],
      "source": [
        "list1 = [10, 20, 25, 30, 35]\n",
        "list2 = [40, 45, 60, 75, 90]\n",
        "print(odd_and_even(list1,list2))"
      ]
    },
    {
      "cell_type": "code",
      "execution_count": 19,
      "id": "0643774c",
      "metadata": {
        "colab": {
          "base_uri": "https://localhost:8080/"
        },
        "id": "0643774c",
        "outputId": "2d7cc55d-678b-4abd-c8c7-f5f2ba543a21"
      },
      "outputs": [
        {
          "output_type": "stream",
          "name": "stdout",
          "text": [
            "result list: [25, 35, 40, 60, 90]\n"
          ]
        }
      ],
      "source": [
        "def merge_list(list1, list2):\n",
        "    result_list = []\n",
        "\n",
        "    for num in list1:\n",
        "        if num % 2 != 0:\n",
        "            result_list.append(num)\n",
        "\n",
        "    for num in list2:\n",
        "        if num % 2 == 0:\n",
        "            result_list.append(num)\n",
        "    return result_list\n",
        "\n",
        "list1 = [10, 20, 25, 30, 35]\n",
        "list2 = [40, 45, 60, 75, 90]\n",
        "print(\"result list:\", merge_list(list1, list2))"
      ]
    },
    {
      "cell_type": "code",
      "execution_count": 20,
      "id": "ae1b169a",
      "metadata": {
        "colab": {
          "base_uri": "https://localhost:8080/"
        },
        "id": "ae1b169a",
        "outputId": "4536974b-bad9-4711-a82b-f39f4b9076f8"
      },
      "outputs": [
        {
          "output_type": "stream",
          "name": "stdout",
          "text": [
            "* * * * * \n",
            "* * * * \n",
            "* * * \n",
            "* * \n",
            "* \n"
          ]
        }
      ],
      "source": [
        "for i in range(1,6):\n",
        "    x = \"* \" * (6 - i)\n",
        "    i -= 1\n",
        "    print(x)"
      ]
    },
    {
      "cell_type": "code",
      "execution_count": 21,
      "id": "e84d9579",
      "metadata": {
        "id": "e84d9579"
      },
      "outputs": [],
      "source": [
        "def exponent(base, exp):\n",
        "    x = base ** exp\n",
        "    return x"
      ]
    },
    {
      "cell_type": "code",
      "execution_count": 22,
      "id": "e4033118",
      "metadata": {
        "colab": {
          "base_uri": "https://localhost:8080/"
        },
        "id": "e4033118",
        "outputId": "5c010d2d-9e70-4348-8d09-1b7054cf0c90"
      },
      "outputs": [
        {
          "output_type": "stream",
          "name": "stdout",
          "text": [
            "32\n",
            "625\n"
          ]
        }
      ],
      "source": [
        "print(exponent(2,5))\n",
        "print(exponent(5,4))"
      ]
    },
    {
      "cell_type": "code",
      "execution_count": 23,
      "id": "65a16d0f",
      "metadata": {
        "colab": {
          "base_uri": "https://localhost:8080/"
        },
        "id": "65a16d0f",
        "outputId": "a6db853f-ffe9-404a-bbd1-6677bfbb8171"
      },
      "outputs": [
        {
          "output_type": "stream",
          "name": "stdout",
          "text": [
            "5 raises to the power of 4 is:  625\n"
          ]
        }
      ],
      "source": [
        "def exponent(base, exp):\n",
        "    num = exp\n",
        "    result = 1\n",
        "    while num > 0:\n",
        "        result = result * base\n",
        "        num = num - 1\n",
        "    print(base, \"raises to the power of\", exp, \"is: \", result)\n",
        "\n",
        "exponent(5, 4)"
      ]
    },
    {
      "cell_type": "code",
      "execution_count": 24,
      "id": "25b8ef8a",
      "metadata": {
        "colab": {
          "base_uri": "https://localhost:8080/"
        },
        "id": "25b8ef8a",
        "outputId": "a43c0788-3d49-4acc-ef5b-fbaed26243b1"
      },
      "outputs": [
        {
          "output_type": "stream",
          "name": "stdout",
          "text": [
            "1 2 3 4 5 6 7 8 9 10 \t\t\n",
            "2 4 6 8 10 12 14 16 18 20 \t\t\n",
            "3 6 9 12 15 18 21 24 27 30 \t\t\n",
            "4 8 12 16 20 24 28 32 36 40 \t\t\n",
            "5 10 15 20 25 30 35 40 45 50 \t\t\n",
            "6 12 18 24 30 36 42 48 54 60 \t\t\n",
            "7 14 21 28 35 42 49 56 63 70 \t\t\n",
            "8 16 24 32 40 48 56 64 72 80 \t\t\n",
            "9 18 27 36 45 54 63 72 81 90 \t\t\n",
            "10 20 30 40 50 60 70 80 90 100 \t\t\n"
          ]
        }
      ],
      "source": [
        "for i in range(1, 11):\n",
        "    for j in range(1, 11):\n",
        "        print(i * j, end=\" \")\n",
        "    print(\"\\t\\t\")"
      ]
    }
  ],
  "metadata": {
    "kernelspec": {
      "display_name": "Python 3 (ipykernel)",
      "language": "python",
      "name": "python3"
    },
    "language_info": {
      "codemirror_mode": {
        "name": "ipython",
        "version": 3
      },
      "file_extension": ".py",
      "mimetype": "text/x-python",
      "name": "python",
      "nbconvert_exporter": "python",
      "pygments_lexer": "ipython3",
      "version": "3.9.12"
    },
    "colab": {
      "provenance": []
    }
  },
  "nbformat": 4,
  "nbformat_minor": 5
}