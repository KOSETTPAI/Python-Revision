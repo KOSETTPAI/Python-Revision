{
  "cells": [
    {
      "cell_type": "code",
      "execution_count": 1,
      "metadata": {
        "colab": {
          "base_uri": "https://localhost:8080/"
        },
        "id": "nE5JBt_IgKbz",
        "outputId": "fb9901d0-0620-4c2a-a078-21c42b093632"
      },
      "outputs": [
        {
          "output_type": "stream",
          "name": "stdout",
          "text": [
            "<class 'int'>\n"
          ]
        }
      ],
      "source": [
        "a = 100\n",
        "print(type(a))"
      ]
    },
    {
      "cell_type": "code",
      "execution_count": 2,
      "metadata": {
        "colab": {
          "base_uri": "https://localhost:8080/"
        },
        "id": "EnO73ubggKb0",
        "outputId": "c8b27582-f36a-4b4c-e2bd-c2d8160b8f8a"
      },
      "outputs": [
        {
          "output_type": "stream",
          "name": "stdout",
          "text": [
            "0\n"
          ]
        }
      ],
      "source": [
        "c = int()\n",
        "print(c)"
      ]
    },
    {
      "cell_type": "code",
      "execution_count": 3,
      "metadata": {
        "colab": {
          "base_uri": "https://localhost:8080/"
        },
        "id": "58y456tCgKb0",
        "outputId": "5ed063b3-e044-4988-ef04-69bddbcf0be8"
      },
      "outputs": [
        {
          "output_type": "stream",
          "name": "stdout",
          "text": [
            "5\n"
          ]
        }
      ],
      "source": [
        "c = int('101', base=2)\n",
        "print(c)"
      ]
    },
    {
      "cell_type": "code",
      "execution_count": 4,
      "metadata": {
        "colab": {
          "base_uri": "https://localhost:8080/"
        },
        "id": "39lX6LeIgKb0",
        "outputId": "75713054-b695-406c-9949-a1f07b053efa"
      },
      "outputs": [
        {
          "output_type": "stream",
          "name": "stdout",
          "text": [
            "<class 'function'>\n"
          ]
        }
      ],
      "source": [
        "def square(a):\n",
        "     return a**2\n",
        "print(type(square))"
      ]
    },
    {
      "cell_type": "code",
      "execution_count": 5,
      "metadata": {
        "colab": {
          "base_uri": "https://localhost:8080/"
        },
        "id": "fuEVMUsugKb1",
        "outputId": "d38fa5dc-ebee-4e9c-8220-95dbf13b4a77"
      },
      "outputs": [
        {
          "output_type": "stream",
          "name": "stdout",
          "text": [
            "<class 'function'>\n",
            "132700529104288\n",
            "132700529104288\n"
          ]
        }
      ],
      "source": [
        "def square(a):\n",
        "     return a**2\n",
        "print(type(square))\n",
        "\n",
        "fun=square\n",
        "print(id(square))\n",
        "print(id(fun))"
      ]
    },
    {
      "cell_type": "code",
      "execution_count": 6,
      "metadata": {
        "colab": {
          "base_uri": "https://localhost:8080/"
        },
        "id": "2wHq9lJegKb1",
        "outputId": "2088ffa9-beb8-403e-ea9f-ee4280c7e6d6"
      },
      "outputs": [
        {
          "output_type": "stream",
          "name": "stdout",
          "text": [
            "<class 'function'>\n",
            "4\n"
          ]
        }
      ],
      "source": [
        "def square(a):\n",
        "     return a**2\n",
        "print(type(square))\n",
        "\n",
        "fun=square\n",
        "print(fun(2))"
      ]
    },
    {
      "cell_type": "code",
      "execution_count": 7,
      "metadata": {
        "colab": {
          "base_uri": "https://localhost:8080/"
        },
        "id": "N3wIPrfYgKb1",
        "outputId": "a1128008-86e5-4e4b-c327-9d790075a50b"
      },
      "outputs": [
        {
          "output_type": "stream",
          "name": "stdout",
          "text": [
            "1\n",
            "8\n"
          ]
        }
      ],
      "source": [
        "def square(a):\n",
        "     return a**2\n",
        "def cube(a):\n",
        "     return a**3\n",
        "def fun(number):\n",
        "     if number==1:\n",
        "        return square\n",
        "     else:\n",
        "        return cube\n",
        "\n",
        "f=fun(1)\n",
        "print(f(1))\n",
        "\n",
        "f=fun(2)\n",
        "print(f(2))"
      ]
    },
    {
      "cell_type": "code",
      "execution_count": 8,
      "metadata": {
        "colab": {
          "base_uri": "https://localhost:8080/"
        },
        "id": "H8jrubwogKb1",
        "outputId": "77fbb66e-271e-4d1b-8e28-4ba7df31a73b"
      },
      "outputs": [
        {
          "output_type": "execute_result",
          "data": {
            "text/plain": [
              "27"
            ]
          },
          "metadata": {},
          "execution_count": 8
        }
      ],
      "source": [
        "def square(a):\n",
        "     return a**2\n",
        "\n",
        "def cube(a):\n",
        "     return a**3\n",
        "\n",
        "def fun_fun(fn , n):\n",
        "     return fn(n)\n",
        "\n",
        "fun_fun(cube,3)"
      ]
    },
    {
      "cell_type": "code",
      "execution_count": 9,
      "metadata": {
        "colab": {
          "base_uri": "https://localhost:8080/"
        },
        "id": "5Hf_jzCfgKb1",
        "outputId": "32aa3cc5-eec6-4fef-8c12-97f23f7e420c"
      },
      "outputs": [
        {
          "output_type": "execute_result",
          "data": {
            "text/plain": [
              "12"
            ]
          },
          "metadata": {},
          "execution_count": 9
        }
      ],
      "source": [
        "def square(a,b):\n",
        "     return a*b\n",
        "square(3,4)"
      ]
    },
    {
      "cell_type": "code",
      "execution_count": 10,
      "metadata": {
        "colab": {
          "base_uri": "https://localhost:8080/"
        },
        "id": "UhGfoN6DgKb1",
        "outputId": "d52f87ce-ff03-4f4d-e072-5b8baaeebbd8"
      },
      "outputs": [
        {
          "output_type": "stream",
          "name": "stdout",
          "text": [
            "6\n"
          ]
        }
      ],
      "source": [
        "def square(a,b,c):\n",
        "    return a*b*c\n",
        "print(square(1,2,3))"
      ]
    },
    {
      "cell_type": "code",
      "execution_count": 11,
      "metadata": {
        "colab": {
          "base_uri": "https://localhost:8080/"
        },
        "id": "-ItC3ZpsgKb1",
        "outputId": "1134ce5a-1eb8-4ff0-8e11-44def609f4e0"
      },
      "outputs": [
        {
          "output_type": "stream",
          "name": "stdout",
          "text": [
            "6\n"
          ]
        }
      ],
      "source": [
        "def square(a,b,c):\n",
        "     return a*b*c\n",
        "print(square(c=1,b=2,a=3))"
      ]
    },
    {
      "cell_type": "code",
      "execution_count": 12,
      "metadata": {
        "colab": {
          "base_uri": "https://localhost:8080/"
        },
        "id": "aiiqTsY9gKb2",
        "outputId": "ffab2440-b1dd-4bfc-c46c-64dcb98922e0"
      },
      "outputs": [
        {
          "output_type": "stream",
          "name": "stdout",
          "text": [
            "1\n",
            "2\n",
            "3\n"
          ]
        }
      ],
      "source": [
        "a,b,c=1,2,3\n",
        "print(a)\n",
        "print(b)\n",
        "print(c)"
      ]
    },
    {
      "cell_type": "code",
      "execution_count": 13,
      "metadata": {
        "colab": {
          "base_uri": "https://localhost:8080/"
        },
        "id": "pclfjq3ygKb2",
        "outputId": "2af06111-f9f7-4279-b95c-ee6e85574252"
      },
      "outputs": [
        {
          "output_type": "stream",
          "name": "stdout",
          "text": [
            "1\n",
            "2\n",
            "3\n",
            "10\n",
            "a\n",
            "3.14\n"
          ]
        }
      ],
      "source": [
        "(a,b,c)=[1,2,3]\n",
        "print(a)\n",
        "print(b)\n",
        "print(c)\n",
        "a,b,c = 10,'a',3.14\n",
        "print(a)\n",
        "print(b)\n",
        "print(c)"
      ]
    },
    {
      "cell_type": "code",
      "execution_count": 14,
      "metadata": {
        "colab": {
          "base_uri": "https://localhost:8080/"
        },
        "id": "TOLwnnRQgKb2",
        "outputId": "59144bc4-048c-47b3-cbd1-65670aff0de6"
      },
      "outputs": [
        {
          "output_type": "stream",
          "name": "stdout",
          "text": [
            "20\n",
            "10\n"
          ]
        }
      ],
      "source": [
        "a,b=10,20\n",
        "a,b=b,a\n",
        "print(a)\n",
        "print(b)"
      ]
    },
    {
      "cell_type": "code",
      "execution_count": 15,
      "metadata": {
        "colab": {
          "base_uri": "https://localhost:8080/"
        },
        "id": "xLjIz7S1gKb2",
        "outputId": "dfcf8610-aa08-4a0f-a972-89fc1fd474ec"
      },
      "outputs": [
        {
          "output_type": "stream",
          "name": "stdout",
          "text": [
            "X\n",
            "Y\n",
            "Z\n"
          ]
        }
      ],
      "source": [
        "a,b,c = 'XYZ'\n",
        "print(a)\n",
        "print(b)\n",
        "print(c)"
      ]
    },
    {
      "cell_type": "code",
      "execution_count": 16,
      "metadata": {
        "colab": {
          "base_uri": "https://localhost:8080/"
        },
        "id": "iFcD7P53gKb2",
        "outputId": "ae9620e8-bad4-42f5-b4f8-4e37e8a189f8"
      },
      "outputs": [
        {
          "output_type": "stream",
          "name": "stdout",
          "text": [
            "A\n"
          ]
        }
      ],
      "source": [
        "a=\"ABC\"\n",
        "print(a[0])"
      ]
    },
    {
      "cell_type": "code",
      "execution_count": 17,
      "metadata": {
        "colab": {
          "base_uri": "https://localhost:8080/"
        },
        "id": "Al3F4KDvgKb3",
        "outputId": "e8b2361d-34dc-48b8-c51e-c8a34dbb35d0"
      },
      "outputs": [
        {
          "output_type": "stream",
          "name": "stdout",
          "text": [
            "1\n",
            "2\n",
            "3\n",
            "4\n",
            "5\n"
          ]
        }
      ],
      "source": [
        "ite={1,2,3,4,5,}\n",
        "for e in ite:\n",
        "    print(e)"
      ]
    },
    {
      "cell_type": "code",
      "execution_count": 18,
      "metadata": {
        "colab": {
          "base_uri": "https://localhost:8080/"
        },
        "id": "QaidFhhBgKb3",
        "outputId": "52417415-cf0f-4372-fe56-81ff147ca064"
      },
      "outputs": [
        {
          "output_type": "stream",
          "name": "stdout",
          "text": [
            "{1, 2, 3, 4, 5}\n",
            "{'d', 'c', 'b', 'a'}\n"
          ]
        }
      ],
      "source": [
        "ite={1,2,3,4,5,}\n",
        "print(ite)\n",
        "ite={'a', 'b' , 'c' , 'd'}\n",
        "print(ite)"
      ]
    },
    {
      "cell_type": "code",
      "execution_count": 19,
      "metadata": {
        "colab": {
          "base_uri": "https://localhost:8080/"
        },
        "id": "o5f97bQtgKb3",
        "outputId": "643685cb-b33f-45e4-fbb0-2ee7f867860e"
      },
      "outputs": [
        {
          "output_type": "stream",
          "name": "stdout",
          "text": [
            "A\n",
            "D\n",
            "C\n",
            "B\n"
          ]
        }
      ],
      "source": [
        "a,b,c,d = {'A' , 'B' , 'C' , 'D'}\n",
        "print(a)\n",
        "print(b)\n",
        "print(c)\n",
        "print(d)"
      ]
    },
    {
      "cell_type": "code",
      "execution_count": 20,
      "metadata": {
        "colab": {
          "base_uri": "https://localhost:8080/"
        },
        "id": "GCUWSMSZgKb3",
        "outputId": "0f98c315-13e2-4e28-c4e7-fd5b266dd9b8"
      },
      "outputs": [
        {
          "output_type": "stream",
          "name": "stdout",
          "text": [
            "{'B', 'C', 'E', 'A', 'D'}\n",
            "{'B', 'C', 'E', 'A', 'D'}\n",
            "{'B', 'C', 'E', 'A', 'D'}\n",
            "{'B', 'C', 'E', 'A', 'D'}\n",
            "{'B', 'C', 'E', 'A', 'D'}\n",
            "B\n",
            "C\n",
            "E\n",
            "A\n",
            "D\n"
          ]
        }
      ],
      "source": [
        "d = {'A', 'B' , 'C' , 'D' , 'E'}\n",
        "for i in d:\n",
        " print(d)\n",
        "\n",
        "a,b,c,d,e = d\n",
        "print(a)\n",
        "print(b)\n",
        "print(c)\n",
        "print(d)\n",
        "print(e)"
      ]
    },
    {
      "cell_type": "code",
      "execution_count": 21,
      "metadata": {
        "colab": {
          "base_uri": "https://localhost:8080/"
        },
        "id": "EY1UUMT3gKb3",
        "outputId": "21b5fc59-3533-4211-ba09-ed8e51bb6860"
      },
      "outputs": [
        {
          "output_type": "stream",
          "name": "stdout",
          "text": [
            "1\n",
            "[2, 3, 4, 5, 6]\n"
          ]
        }
      ],
      "source": [
        "l=[1,2,3,4,5,6]\n",
        "a,*b=l\n",
        "print(a)\n",
        "print(b)"
      ]
    },
    {
      "cell_type": "code",
      "execution_count": 22,
      "metadata": {
        "colab": {
          "base_uri": "https://localhost:8080/"
        },
        "id": "WwIPpb9KgKb3",
        "outputId": "ff0792a3-0391-4107-f250-5f44a2534c30"
      },
      "outputs": [
        {
          "output_type": "stream",
          "name": "stdout",
          "text": [
            "g\n",
            "['r', 'e', 'e', 'n', 'h', 'a', 'c', 'k', 'e', 'r', 's']\n"
          ]
        }
      ],
      "source": [
        "s='greenhackers'\n",
        "a,*b=s\n",
        "print(a)\n",
        "print(b)"
      ]
    },
    {
      "cell_type": "code",
      "execution_count": 23,
      "metadata": {
        "colab": {
          "base_uri": "https://localhost:8080/"
        },
        "id": "5HJLtvKLgKb3",
        "outputId": "2e31bc84-3f46-48bb-e7eb-5bb71129c365"
      },
      "outputs": [
        {
          "output_type": "stream",
          "name": "stdout",
          "text": [
            "K\n",
            "['O', 'S', 'E', 'T']\n",
            "T\n"
          ]
        }
      ],
      "source": [
        "s='KOSETT'\n",
        "a,*b,c=s\n",
        "print(a)\n",
        "print(b)\n",
        "print(c)"
      ]
    },
    {
      "cell_type": "code",
      "execution_count": 24,
      "metadata": {
        "colab": {
          "base_uri": "https://localhost:8080/"
        },
        "id": "lyWyLFgYgKb4",
        "outputId": "2dcb73df-953e-4e9f-fd77-78363b68b05d"
      },
      "outputs": [
        {
          "output_type": "stream",
          "name": "stdout",
          "text": [
            "a\n",
            "['b', 'c']\n"
          ]
        }
      ],
      "source": [
        "t =('a', 'b', 'c')\n",
        "a,*b=t\n",
        "print(a)\n",
        "print(b)"
      ]
    },
    {
      "cell_type": "code",
      "execution_count": 25,
      "metadata": {
        "colab": {
          "base_uri": "https://localhost:8080/"
        },
        "id": "QVfVC4r-gKb4",
        "outputId": "aecf357a-730f-4090-ae6a-f53f3e426dce"
      },
      "outputs": [
        {
          "output_type": "stream",
          "name": "stdout",
          "text": [
            "[1, 2, 3, 4, 5, 6]\n"
          ]
        }
      ],
      "source": [
        "l1 = [1,2,3]\n",
        "l2 = [4,5,6]\n",
        "l=[*l1 , *l2]\n",
        "print(l)"
      ]
    },
    {
      "cell_type": "code",
      "execution_count": 26,
      "metadata": {
        "colab": {
          "base_uri": "https://localhost:8080/"
        },
        "id": "iag2R2xTgKb4",
        "outputId": "255998c6-c720-47c6-a061-bf448741f6d8"
      },
      "outputs": [
        {
          "output_type": "stream",
          "name": "stdout",
          "text": [
            "1\n",
            "[2, 3]\n",
            "p\n",
            "y\n",
            "['t', 'h', 'o', 'n']\n"
          ]
        }
      ],
      "source": [
        "a,*b,(c,d,*e)=[1,2,3,'python']\n",
        "print(a)\n",
        "print(b)\n",
        "print(c)\n",
        "print(d)\n",
        "print(e)"
      ]
    },
    {
      "cell_type": "code",
      "execution_count": 27,
      "metadata": {
        "colab": {
          "base_uri": "https://localhost:8080/"
        },
        "id": "jygEvgGdgKb4",
        "outputId": "a894d797-eb75-4d67-c897-ef55e2649bd4"
      },
      "outputs": [
        {
          "output_type": "stream",
          "name": "stdout",
          "text": [
            "1 [2, 3] p y thon\n"
          ]
        }
      ],
      "source": [
        "l =[1,2,3,'python']\n",
        "print(l[0], l[1:-1] , l[-1][0] , l[-1][1], l[-1][2:])"
      ]
    },
    {
      "cell_type": "code",
      "execution_count": 28,
      "metadata": {
        "colab": {
          "base_uri": "https://localhost:8080/"
        },
        "id": "-G9LUp8ngKb4",
        "outputId": "64640191-3921-4e21-e11f-8708d8de3b86"
      },
      "outputs": [
        {
          "output_type": "stream",
          "name": "stdout",
          "text": [
            "1 [2, 3] p y ['t', 'h', 'o', 'n']\n"
          ]
        }
      ],
      "source": [
        "l =[1,2,3,'python']\n",
        "print(l[0], l[1:-1] , l[-1][0] , l[-1][1], list(l[-1][2:]))"
      ]
    },
    {
      "cell_type": "code",
      "execution_count": 29,
      "metadata": {
        "colab": {
          "base_uri": "https://localhost:8080/"
        },
        "id": "w0fHQwiDgKb4",
        "outputId": "0a3939a7-de90-4265-a0f7-387b7eaf7e10"
      },
      "outputs": [
        {
          "output_type": "stream",
          "name": "stdout",
          "text": [
            "1 [2, 3] p y ['t', 'h', 'o', 'n']\n"
          ]
        }
      ],
      "source": [
        "l =[1,2,3,'python']\n",
        "\n",
        "a,b,c,d,e = l[0], l[1:-1] , l[-1][0] , l[-1][1], list(l[-1][2:])\n",
        "print(a ,b ,c ,d ,e)"
      ]
    },
    {
      "cell_type": "code",
      "execution_count": 30,
      "metadata": {
        "colab": {
          "base_uri": "https://localhost:8080/"
        },
        "id": "TndjxvFsgKb4",
        "outputId": "6a5f8e2b-89ea-4f1d-b440-11016600df59"
      },
      "outputs": [
        {
          "output_type": "stream",
          "name": "stdout",
          "text": [
            "[1, 2, 3, 'X', 'Y', 'Z']\n"
          ]
        }
      ],
      "source": [
        "l=[1,2,3]\n",
        "s='XYZ'\n",
        "ls=[*l,*s]\n",
        "print(ls)"
      ]
    },
    {
      "cell_type": "code",
      "execution_count": 31,
      "metadata": {
        "colab": {
          "base_uri": "https://localhost:8080/"
        },
        "id": "G6x2rtEvgKb4",
        "outputId": "f02b1c7f-c9c2-4b75-fad1-f5e9178253cd"
      },
      "outputs": [
        {
          "output_type": "stream",
          "name": "stdout",
          "text": [
            "[1, 2, 3, 'c', 'b', 'a']\n"
          ]
        }
      ],
      "source": [
        "l=[1,2,3]\n",
        "s={'a', 'b', 'c'}\n",
        "ls=[*l,*s]\n",
        "print(ls)"
      ]
    },
    {
      "cell_type": "code",
      "execution_count": 32,
      "metadata": {
        "colab": {
          "base_uri": "https://localhost:8080/"
        },
        "id": "NjX7ZgejgKb5",
        "outputId": "836151b6-d57f-47cf-ef64-eedf4848da7c"
      },
      "outputs": [
        {
          "output_type": "stream",
          "name": "stdout",
          "text": [
            "{1, 2, 3, 4, 5}\n",
            "{1, 2, 3, 4, 5}\n"
          ]
        }
      ],
      "source": [
        "s1 = {1,2,3}\n",
        "s2 = {3,4,5}\n",
        "c ={*s1 , *s2}\n",
        "print(c)\n",
        "print(s1.union(s2))"
      ]
    },
    {
      "cell_type": "code",
      "execution_count": 33,
      "metadata": {
        "colab": {
          "base_uri": "https://localhost:8080/"
        },
        "id": "jG7nIWT-gKb5",
        "outputId": "80b9a623-2d0e-4d7f-c71a-b6bb5aa4664c"
      },
      "outputs": [
        {
          "output_type": "stream",
          "name": "stdout",
          "text": [
            "{1, 2, 3, 4, 5, 6, 7, 8, 9}\n"
          ]
        }
      ],
      "source": [
        "s1 = {1,2,3}\n",
        "s2 = {3,4,5}\n",
        "s3 = {5,6,7}\n",
        "s4 = {7,8,9}\n",
        "print(s1.union(s2,s3,s4))"
      ]
    },
    {
      "cell_type": "code",
      "execution_count": 34,
      "metadata": {
        "colab": {
          "base_uri": "https://localhost:8080/"
        },
        "id": "Fj8zB8qsgKb5",
        "outputId": "85948eea-03e5-429b-dc0a-8cee77cc4c48"
      },
      "outputs": [
        {
          "output_type": "stream",
          "name": "stdout",
          "text": [
            "{1, 2, 3, 4, 5, 6, 7, 8, 9}\n",
            "[1, 2, 3, 3, 4, 5, 5, 6, 7, 8, 9, 7]\n"
          ]
        }
      ],
      "source": [
        "s1 = {1,2,3}\n",
        "s2 = {3,4,5}\n",
        "s3 = {5,6,7}\n",
        "s4 = {7,8,9}\n",
        "print(s1.union(s2,s3,s4))\n",
        "total =[*s1,*s2,*s3,*s4]\n",
        "print(total)"
      ]
    },
    {
      "cell_type": "code",
      "execution_count": 35,
      "metadata": {
        "colab": {
          "base_uri": "https://localhost:8080/"
        },
        "id": "BxYt8oexgKb5",
        "outputId": "2570ccdc-24d5-401a-ab81-af40471f983a"
      },
      "outputs": [
        {
          "output_type": "stream",
          "name": "stdout",
          "text": [
            "(1, 2, 3, 4, 5)\n"
          ]
        }
      ],
      "source": [
        "def myFun(*args):\n",
        "     print(args)\n",
        "myFun(1,2,3,4,5)"
      ]
    },
    {
      "cell_type": "code",
      "execution_count": 36,
      "metadata": {
        "colab": {
          "base_uri": "https://localhost:8080/"
        },
        "id": "PbpzgOBpgKb5",
        "outputId": "9368f75f-5a71-4b65-fa50-b4efe49e8e9c"
      },
      "outputs": [
        {
          "output_type": "stream",
          "name": "stdout",
          "text": [
            "1\n",
            "2\n",
            "(3, 4)\n"
          ]
        }
      ],
      "source": [
        "def myFun(a,b,*args):\n",
        "    print(a) #1\n",
        "    print(b) #2\n",
        "    print(args) #(3,4)\n",
        "myFun(1,2,3,4)"
      ]
    },
    {
      "cell_type": "code",
      "execution_count": 37,
      "metadata": {
        "colab": {
          "base_uri": "https://localhost:8080/"
        },
        "id": "M8xnKuW-gKcD",
        "outputId": "49735ec0-1783-40a1-b327-39afde9a3308"
      },
      "outputs": [
        {
          "output_type": "stream",
          "name": "stdout",
          "text": [
            "2.5\n"
          ]
        }
      ],
      "source": [
        "def avg(*args):\n",
        "    length= len(args)\n",
        "    total= sum(args)\n",
        "    return total/length\n",
        "result=avg(1,2,3,4)\n",
        "print(result)"
      ]
    },
    {
      "cell_type": "code",
      "execution_count": 38,
      "metadata": {
        "colab": {
          "base_uri": "https://localhost:8080/"
        },
        "id": "g6XhSKuogKcD",
        "outputId": "af14b573-93f7-4ca9-e9bc-e14ae35a3546"
      },
      "outputs": [
        {
          "output_type": "stream",
          "name": "stdout",
          "text": [
            "0\n"
          ]
        }
      ],
      "source": [
        "def avg(*args):\n",
        "    length= len(args)\n",
        "    total= sum(args)\n",
        "    if length == 0:\n",
        "        return 0\n",
        "    else:\n",
        "        return length/total\n",
        "\n",
        "result=avg()\n",
        "print(result)"
      ]
    }
  ],
  "metadata": {
    "kernelspec": {
      "display_name": "Python 3",
      "language": "python",
      "name": "python3"
    },
    "language_info": {
      "codemirror_mode": {
        "name": "ipython",
        "version": 3
      },
      "file_extension": ".py",
      "mimetype": "text/x-python",
      "name": "python",
      "nbconvert_exporter": "python",
      "pygments_lexer": "ipython3",
      "version": "3.8.5"
    },
    "colab": {
      "provenance": []
    }
  },
  "nbformat": 4,
  "nbformat_minor": 0
}